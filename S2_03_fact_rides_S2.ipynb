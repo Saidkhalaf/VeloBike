{
 "cells": [
  {
   "cell_type": "markdown",
   "source": "## Het feit rit S2",
   "metadata": {
    "collapsed": false
   },
   "id": "8ce64564b056624a"
  },
  {
   "cell_type": "code",
   "source": [
    "#SETUP\n",
    "import ConnectionConfig as cc\n",
    "cc.setupEnvironment()\n",
    "from pyspark.sql import SparkSession"
   ],
   "metadata": {
    "collapsed": false,
    "ExecuteTime": {
     "end_time": "2024-11-03T16:19:59.682788Z",
     "start_time": "2024-11-03T16:19:59.164111Z"
    }
   },
   "id": "b05e12777dcd7a9c",
   "outputs": [],
   "execution_count": 1
  },
  {
   "cell_type": "code",
   "source": [
    "#SETUP\n",
    "spark = cc.startLocalCluster(\"factRidesSaif\")\n",
    "spark.getActiveSession()\n"
   ],
   "metadata": {
    "collapsed": false,
    "ExecuteTime": {
     "end_time": "2024-11-03T16:20:16.971040Z",
     "start_time": "2024-11-03T16:19:59.692362Z"
    }
   },
   "id": "f2eedce13b098bed",
   "outputs": [
    {
     "data": {
      "text/plain": [
       "<pyspark.sql.session.SparkSession at 0x1bf3b35de50>"
      ],
      "text/html": [
       "\n",
       "            <div>\n",
       "                <p><b>SparkSession - in-memory</b></p>\n",
       "                \n",
       "        <div>\n",
       "            <p><b>SparkContext</b></p>\n",
       "\n",
       "            <p><a href=\"http://host.docker.internal:4042\">Spark UI</a></p>\n",
       "\n",
       "            <dl>\n",
       "              <dt>Version</dt>\n",
       "                <dd><code>v3.5.2</code></dd>\n",
       "              <dt>Master</dt>\n",
       "                <dd><code>local[*]</code></dd>\n",
       "              <dt>AppName</dt>\n",
       "                <dd><code>factRidesSaif</code></dd>\n",
       "            </dl>\n",
       "        </div>\n",
       "        \n",
       "            </div>\n",
       "        "
      ]
     },
     "execution_count": 2,
     "metadata": {},
     "output_type": "execute_result"
    }
   ],
   "execution_count": 2
  },
  {
   "cell_type": "code",
   "source": [
    "#EXTRACT\n",
    "cc.set_connectionProfile(\"VeloDB\")\n",
    "\n",
    "ride_source_df = spark.read \\\n",
    "    .format(\"jdbc\") \\\n",
    "    .option(\"url\", cc.create_jdbc()) \\\n",
    "    .option(\"driver\", cc.get_Property(\"driver\")) \\\n",
    "    .option(\"query\", \"\"\"\n",
    "        SELECT *,\n",
    "            haversine_km(\n",
    "                CAST(r.startpoint[0] AS NUMERIC), \n",
    "                CAST(r.startpoint[1] AS NUMERIC),\n",
    "                CAST(r.endpoint[0] AS NUMERIC), \n",
    "                CAST(r.endpoint[1] AS NUMERIC)\n",
    "            ) AS distance\n",
    "        FROM rides r\n",
    "    \"\"\") \\\n",
    "    .option(\"user\", cc.get_Property(\"username\")) \\\n",
    "    .option(\"password\", cc.get_Property(\"password\")) \\\n",
    "    .load()\n",
    "\n",
    "subscription_source_df = spark.read \\\n",
    "    .format(\"jdbc\") \\\n",
    "    .option(\"url\", cc.create_jdbc()) \\\n",
    "    .option(\"driver\", cc.get_Property(\"driver\")) \\\n",
    "    .option(\"dbtable\", \"subscriptions\") \\\n",
    "    .option(\"user\", cc.get_Property(\"username\")) \\\n",
    "    .option(\"password\", cc.get_Property(\"password\")) \\\n",
    "    .option(\"partitionColumn\", \"subscriptionid\") \\\n",
    "    .option(\"numPartitions\", 4) \\\n",
    "    .option(\"lowerBound\", 0) \\\n",
    "    .option(\"upperBound\", 1000) \\\n",
    "    .load()\n",
    "\n",
    "customers_source_df = spark.read \\\n",
    "    .format(\"jdbc\") \\\n",
    "    .option(\"url\", cc.create_jdbc()) \\\n",
    "    .option(\"driver\", cc.get_Property(\"driver\")) \\\n",
    "    .option(\"dbtable\", \"velo_users\") \\\n",
    "    .option(\"user\", cc.get_Property(\"username\")) \\\n",
    "    .option(\"password\", cc.get_Property(\"password\")) \\\n",
    "    .option(\"partitionColumn\", \"userid\") \\\n",
    "    .option(\"numPartitions\", 4) \\\n",
    "    .option(\"lowerBound\", 0) \\\n",
    "    .option(\"upperBound\", 1000) \\\n",
    "    .load()\n"
   ],
   "metadata": {
    "ExecuteTime": {
     "end_time": "2024-11-03T16:20:22.876378Z",
     "start_time": "2024-11-03T16:20:20.058837Z"
    }
   },
   "id": "675184574f6f1f1e",
   "outputs": [],
   "execution_count": 3
  },
  {
   "metadata": {
    "ExecuteTime": {
     "end_time": "2024-11-03T16:20:24.034947Z",
     "start_time": "2024-11-03T16:20:23.020744Z"
    }
   },
   "cell_type": "code",
   "source": [
    "ride_source_df.createOrReplaceTempView(\"rides_source_saif\")\n",
    "subscription_source_df.createOrReplaceTempView(\"subscription_source\")\n",
    "customers_source_df.createOrReplaceTempView(\"customers_source\")"
   ],
   "id": "34538388239b8dbc",
   "outputs": [],
   "execution_count": 4
  },
  {
   "metadata": {
    "ExecuteTime": {
     "end_time": "2024-11-03T16:20:24.349823Z",
     "start_time": "2024-11-03T16:20:24.060447Z"
    }
   },
   "cell_type": "code",
   "source": [
    "\n",
    "rides_with_users = spark.sql(\"\"\"\n",
    "SELECT r.*, c.userid FROM rides_source_saif r\n",
    "LEFT JOIN subscription_source s ON r.subscriptionid = s.subscriptionid\n",
    "left join customers_source c on s.userid = c.userid\"\"\")\n"
   ],
   "id": "8d42fcf2d3906072",
   "outputs": [],
   "execution_count": 5
  },
  {
   "cell_type": "code",
   "source": [
    "#EXTRACT\n",
    "dim_customer = spark.read.format(\"delta\").load(\"spark-warehouse/dimCustomer\")\n",
    "dim_locks = spark.read.format(\"delta\").load(\"spark-warehouse/dimLocks\")"
   ],
   "metadata": {
    "collapsed": false,
    "ExecuteTime": {
     "end_time": "2024-11-03T16:20:32.050725Z",
     "start_time": "2024-11-03T16:20:24.377045Z"
    }
   },
   "id": "7c4b0ab7f1b9ade6",
   "outputs": [],
   "execution_count": 6
  },
  {
   "cell_type": "code",
   "source": [
    "#TRANSFORM\n",
    "dim_customer.createOrReplaceTempView(\"dimCustomer\")\n",
    "dim_locks.createOrReplaceTempView(\"dimLocks\")\n",
    "rides_with_users.createOrReplaceTempView(\"rides_with_users\")\n"
   ],
   "metadata": {
    "collapsed": false,
    "ExecuteTime": {
     "end_time": "2024-11-03T16:20:32.135989Z",
     "start_time": "2024-11-03T16:20:32.077007Z"
    }
   },
   "id": "416b3f3225f19f9e",
   "outputs": [],
   "execution_count": 7
  },
  {
   "metadata": {
    "ExecuteTime": {
     "end_time": "2024-11-03T16:20:32.305827Z",
     "start_time": "2024-11-03T16:20:32.159178Z"
    }
   },
   "cell_type": "code",
   "source": [
    "#TRANSFORM\n",
    "fact_rides = spark.sql(\"\"\"\n",
    "    SELECT \n",
    "        monotonically_increasing_id() as rideSK, \n",
    "        rideid AS rideId,\n",
    "        l1.lockSK AS startLockSK,\n",
    "        l2.lockSK AS endLockSK,\n",
    "        c.customer_SK AS customerSK,\n",
    "        r.distance  as rideDistance\n",
    "        \n",
    "    FROM\n",
    "        rides_with_users AS r\n",
    "    LEFT OUTER JOIN \n",
    "        dimLocks AS l1 ON r.startlockId = l1.lockId\n",
    "    LEFT OUTER JOIN \n",
    "        dimLocks AS l2 ON r.endlockId = l2.lockId\n",
    "    LEFT OUTER JOIN \n",
    "        dimCustomer AS c ON (r.userid = c.customer_id\n",
    "        and r.starttime >= c.scd_start and (r.starttime < c.scd_end  OR c.scd_end is null)\n",
    "        )\n",
    "    WHERE \n",
    "        l1.lockId IS NOT NULL AND l2.lockId IS NOT NULL AND c.customer_id IS NOT NULL\n",
    "        \n",
    "\"\"\")"
   ],
   "id": "f47ccc9adad69f40",
   "outputs": [],
   "execution_count": 8
  },
  {
   "metadata": {
    "ExecuteTime": {
     "end_time": "2024-11-03T16:24:13.049270Z",
     "start_time": "2024-11-03T16:20:32.328996Z"
    }
   },
   "cell_type": "code",
   "source": [
    "#LOAD\n",
    "fact_rides.show(20)"
   ],
   "id": "a3f7fcd2d41ff018",
   "outputs": [
    {
     "name": "stdout",
     "output_type": "stream",
     "text": [
      "+------+------+-----------+---------+----------+--------------------+\n",
      "|rideSK|rideId|startLockSK|endLockSK|customerSK|        rideDistance|\n",
      "+------+------+-----------+---------+----------+--------------------+\n",
      "|     0|     3|       4147|     2270|8589984759|0.699051320786962000|\n",
      "|     1|    11|       5628|     4177|8589949890|1.061420171911090000|\n",
      "|     2|    13|       3166|     6046|8589935603|5.575740415708010000|\n",
      "|     3|    17|       4147|     2270|8589984759|0.699051320786962000|\n",
      "|     4|    25|       5628|     4177|8589949890|1.061420171911090000|\n",
      "|     5|    27|       3166|     6046|8589935603|5.575740415708010000|\n",
      "|     6|    33|       1227|     7149|8589951832|0.489635221161042000|\n",
      "|     7|    34|       5625|      426|8589993021|2.348743494327990000|\n",
      "|     8|    42|       2571|     1862|8589955202|0.177913231674759000|\n",
      "|     9|    50|       2597|     6122|8589945494|1.327670670555210000|\n",
      "|    10|    58|       3033|     2449|8589985031|4.441904143989020000|\n",
      "|    11|    67|        337|     6994|8589945527|5.115404077176720000|\n",
      "|    12|    71|       7055|     4043|8589969414|2.550810388430940000|\n",
      "|    13|    79|       4335|     5658|8589960723|2.634095599281030000|\n",
      "|    14|    87|       7029|     3924|8589950318|5.329988867616570000|\n",
      "|    15|    92|       5647|     4309|8589942783|1.019996722533340000|\n",
      "|    16|    93|       7364|     6207|8589986918|6.124680616963850000|\n",
      "|    17|    94|       5953|     6112|8589947442|1.316310613495090000|\n",
      "|    18|   101|       1130|     5696|8589944942|4.456662165068220000|\n",
      "|    19|   102|        522|      989|8589970130|1.011845356165030000|\n",
      "+------+------+-----------+---------+----------+--------------------+\n",
      "only showing top 20 rows\n",
      "\n"
     ]
    }
   ],
   "execution_count": 9
  },
  {
   "metadata": {
    "ExecuteTime": {
     "end_time": "2024-11-03T16:27:49.437112Z",
     "start_time": "2024-11-03T16:24:13.106258Z"
    }
   },
   "cell_type": "code",
   "source": [
    "delta_table_path = \"spark-warehouse/factRidesS2\"\n",
    "fact_rides.write.format(\"delta\").mode(\"overwrite\").save(delta_table_path)"
   ],
   "id": "7c483bf3758e8a56",
   "outputs": [],
   "execution_count": 10
  },
  {
   "cell_type": "code",
   "source": "spark.stop()",
   "metadata": {
    "collapsed": true,
    "ExecuteTime": {
     "end_time": "2024-11-03T16:27:50.102687Z",
     "start_time": "2024-11-03T16:27:49.473283Z"
    }
   },
   "id": "initial_id",
   "outputs": [],
   "execution_count": 11
  }
 ],
 "metadata": {
  "kernelspec": {
   "display_name": "Python 3",
   "language": "python",
   "name": "python3"
  },
  "language_info": {
   "codemirror_mode": {
    "name": "ipython",
    "version": 2
   },
   "file_extension": ".py",
   "mimetype": "text/x-python",
   "name": "python",
   "nbconvert_exporter": "python",
   "pygments_lexer": "ipython2",
   "version": "2.7.6"
  }
 },
 "nbformat": 4,
 "nbformat_minor": 5
}
