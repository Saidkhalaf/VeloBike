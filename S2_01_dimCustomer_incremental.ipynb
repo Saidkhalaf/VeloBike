{
 "cells": [
  {
   "cell_type": "code",
   "source": [
    "#SETUP\n",
    "from datetime import datetime\n",
    "from delta import DeltaTable\n",
    "import ConnectionConfig as cc\n",
    "cc.setupEnvironment()"
   ],
   "metadata": {
    "collapsed": false,
    "ExecuteTime": {
     "end_time": "2024-11-03T16:19:12.824983Z",
     "start_time": "2024-11-03T16:19:12.815203Z"
    }
   },
   "id": "9b40af47b92fa493",
   "outputs": [],
   "execution_count": 14
  },
  {
   "cell_type": "code",
   "source": [
    "#SETUP\n",
    "spark = cc.startLocalCluster(\"dimCustomerIncrementalLoad\")\n",
    "spark.getActiveSession()"
   ],
   "metadata": {
    "ExecuteTime": {
     "end_time": "2024-11-03T16:19:20.547392Z",
     "start_time": "2024-11-03T16:19:12.859784Z"
    }
   },
   "id": "66336bd0704346cf",
   "outputs": [
    {
     "data": {
      "text/plain": [
       "<pyspark.sql.session.SparkSession at 0x21e7fa2ced0>"
      ],
      "text/html": [
       "\n",
       "            <div>\n",
       "                <p><b>SparkSession - in-memory</b></p>\n",
       "                \n",
       "        <div>\n",
       "            <p><b>SparkContext</b></p>\n",
       "\n",
       "            <p><a href=\"http://host.docker.internal:4042\">Spark UI</a></p>\n",
       "\n",
       "            <dl>\n",
       "              <dt>Version</dt>\n",
       "                <dd><code>v3.5.2</code></dd>\n",
       "              <dt>Master</dt>\n",
       "                <dd><code>local[*]</code></dd>\n",
       "              <dt>AppName</dt>\n",
       "                <dd><code>dimCustomerIncrementalLoad</code></dd>\n",
       "            </dl>\n",
       "        </div>\n",
       "        \n",
       "            </div>\n",
       "        "
      ]
     },
     "execution_count": 15,
     "metadata": {},
     "output_type": "execute_result"
    }
   ],
   "execution_count": 15
  },
  {
   "metadata": {},
   "cell_type": "markdown",
   "source": [
    "## Incremental load \n",
    "* Setting the parameters"
   ],
   "id": "cbb7bf7b150c9295"
  },
  {
   "metadata": {
    "collapsed": false,
    "ExecuteTime": {
     "end_time": "2024-11-03T16:19:20.581965Z",
     "start_time": "2024-11-03T16:19:20.574481Z"
    }
   },
   "cell_type": "code",
   "source": [
    "\n",
    "run_timestamp = datetime.now()"
   ],
   "id": "a781b62f99800e6e",
   "outputs": [],
   "execution_count": 16
  },
  {
   "metadata": {
    "ExecuteTime": {
     "end_time": "2024-11-03T16:19:20.618075Z",
     "start_time": "2024-11-03T16:19:20.611024Z"
    }
   },
   "cell_type": "code",
   "source": "cc.set_connectionProfile(\"VeloDB\")",
   "id": "36bb5f38b38d6c85",
   "outputs": [],
   "execution_count": 17
  },
  {
   "metadata": {},
   "cell_type": "markdown",
   "source": "#### Read source table\n",
   "id": "6172d8db1ad0341b"
  },
  {
   "cell_type": "code",
   "source": [
    "#EXTRACT\n",
    "df_velo_users =spark.read \\\n",
    "    .format(\"jdbc\") \\\n",
    "    .option(\"driver\" , cc.get_Property(\"driver\")) \\\n",
    "    .option(\"url\", cc.create_jdbc()) \\\n",
    "    .option(\"dbtable\", \"velo_users\") \\\n",
    "    .option(\"user\", cc.get_Property(\"username\")) \\\n",
    "    .option(\"password\", cc.get_Property(\"password\")) \\\n",
    "    .option(\"partitionColumn\", \"userid\") \\\n",
    "    .option(\"numPartitions\", 4) \\\n",
    "    .option(\"lowerBound\", 0) \\\n",
    "    .option(\"upperBound\", 20) \\\n",
    "    .load()\n",
    "\n",
    "df_subscriptions = spark.read \\\n",
    "    .format(\"jdbc\") \\\n",
    "    .option(\"driver\" , cc.get_Property(\"driver\")) \\\n",
    "    .option(\"url\", cc.create_jdbc()) \\\n",
    "    .option(\"dbtable\", \"subscriptions\") \\\n",
    "    .option(\"user\", cc.get_Property(\"username\")) \\\n",
    "    .option(\"password\", cc.get_Property(\"password\")) \\\n",
    "    .option(\"partitionColumn\", \"subscriptionid\") \\\n",
    "    .option(\"numPartitions\", 4) \\\n",
    "    .option(\"lowerBound\", 0) \\\n",
    "    .option(\"upperBound\", 20) \\\n",
    "    .load()\n",
    "\n",
    "df_subscription_types = spark.read \\\n",
    "    .format(\"jdbc\") \\\n",
    "    .option(\"driver\" , cc.get_Property(\"driver\")) \\\n",
    "    .option(\"url\", cc.create_jdbc()) \\\n",
    "    .option(\"dbtable\", \"subscription_types\") \\\n",
    "    .option(\"user\", cc.get_Property(\"username\")) \\\n",
    "    .option(\"password\", cc.get_Property(\"password\")) \\\n",
    "    .option(\"partitionColumn\", \"subscriptiontypeid\") \\\n",
    "    .option(\"numPartitions\", 4) \\\n",
    "    .option(\"lowerBound\", 0) \\\n",
    "    .option(\"upperBound\", 20) \\\n",
    "    .load()"
   ],
   "metadata": {
    "collapsed": false,
    "ExecuteTime": {
     "end_time": "2024-11-03T16:19:21.075634Z",
     "start_time": "2024-11-03T16:19:20.639420Z"
    }
   },
   "id": "b76bc1fbc36cf2a9",
   "outputs": [],
   "execution_count": 18
  },
  {
   "cell_type": "code",
   "source": [
    "#TRANSFORM\n",
    "df_velo_users.createOrReplaceTempView(\"operational_velo_users\")\n",
    "df_subscriptions.createOrReplaceTempView(\"operational_subscriptions\")\n",
    "df_subscription_types.createOrReplaceTempView(\"operational_subscription_types\")"
   ],
   "metadata": {
    "collapsed": false,
    "ExecuteTime": {
     "end_time": "2024-11-03T16:19:21.138363Z",
     "start_time": "2024-11-03T16:19:21.097576Z"
    }
   },
   "id": "84d2763bc352b5d5",
   "outputs": [],
   "execution_count": 19
  },
  {
   "cell_type": "code",
   "source": [
    "#TRANSFORM\n",
    "df_dim_customers = spark.sql(\"\"\"\n",
    "    SELECT \n",
    "        monotonically_increasing_id() as source_customer_SK,\n",
    "        u.userid as source_customer_id,\n",
    "        u.name as source_customer,\n",
    "        u.street as source_street, \n",
    "        u.number source_number,\n",
    "        u.zipcode as source_zipcode,\n",
    "        u.city as source_city, \n",
    "        u.country_code as source_country_code,\n",
    "        st.description as source_subscription_type,\n",
    "        s.validfrom as source_validform,\n",
    "        md5(concat(u.name, street,number,zipcode,city,country_code )) as source_md5\n",
    "    FROM operational_velo_users u\n",
    "        JOIN operational_subscriptions s \n",
    "                ON u.userid = s.userid\n",
    "        JOIN operational_subscription_types st \n",
    "                ON s.subscriptiontypeid = st.subscriptiontypeid\n",
    "    WHERE s.validfrom = (\n",
    "        SELECT MAX(validfrom) \n",
    "        FROM operational_subscriptions \n",
    "        WHERE userid = u.userid)\n",
    "\"\"\")\n",
    "\n",
    "df_dim_customers.createOrReplaceTempView(\"dimCustomer_new\")"
   ],
   "metadata": {
    "collapsed": false,
    "ExecuteTime": {
     "end_time": "2024-11-03T16:19:21.246226Z",
     "start_time": "2024-11-03T16:19:21.162049Z"
    }
   },
   "id": "8f728fc83ea88cee",
   "outputs": [],
   "execution_count": 20
  },
  {
   "cell_type": "code",
   "source": [
    "#TRANSFORM\n",
    "dt_dimCustomer = DeltaTable.forPath(spark, \"./spark-warehouse/dimCustomer\")\n",
    "dt_dimCustomer.toDF().createOrReplaceTempView(\"dimCustomer_current\")\n",
    "\n",
    "#DEBUG CODE TO SHOW CONTENT OF DIMENSION\n",
    "spark.sql(\"\"\"\n",
    "   select * from dimCustomer_new\n",
    "\"\"\").show()"
   ],
   "metadata": {
    "collapsed": false,
    "ExecuteTime": {
     "end_time": "2024-11-03T16:19:23.452458Z",
     "start_time": "2024-11-03T16:19:21.336379Z"
    }
   },
   "id": "550b975b53b3d7db",
   "outputs": [
    {
     "name": "stdout",
     "output_type": "stream",
     "text": [
      "+------------------+------------------+--------------------+--------------------+-------------+--------------+--------------------+-------------------+------------------------+----------------+--------------------+\n",
      "|source_customer_SK|source_customer_id|     source_customer|       source_street|source_number|source_zipcode|         source_city|source_country_code|source_subscription_type|source_validform|          source_md5|\n",
      "+------------------+------------------+--------------------+--------------------+-------------+--------------+--------------------+-------------------+------------------------+----------------+--------------------+\n",
      "|                 0|                 2|   van der Zee Julia|     Steenbergstraat|          43 |          2610| Wilrijk (Antwerpen)|                 BE|                   MAAND|      2021-10-05|73d9101519509eb55...|\n",
      "|                 1|                 4|      Willems Angela|Graaf Joseph de P...|          15 |          2900|             Schoten|                 BE|                     DAG|      2019-04-08|70ba1eea58f357811...|\n",
      "|                 2|                 3|     de Boer Ricardo|   Maria Clarastraat|          80 |          2160|           Wommelgem|                 BE|                    JAAR|      2022-09-17|430cf139585ed78b6...|\n",
      "|                 3|                 1|         Bouman Lars|    Somméstraat Said|         156 |          2060|           Antwerpen|                 BE|                     DAG|      2020-12-14|06a6b6950726fcfb4...|\n",
      "|                 4|                 6|      Driessen Anouk|   Jan Ockegemstraat|     168 0107|          2650|              Edegem|                 BE|                    JAAR|      2023-12-31|20433518c2ec27a18...|\n",
      "|                 5|                 9|            Smit Tim|       Bikschotelaan|          60 |          2600| Berchem (Antwerpen)|                 BE|                   MAAND|      2023-11-29|ebd2f063f8bb119e3...|\n",
      "|                 6|                 5|    Heijnen Patricia|          Meylstraat|         111 |          2540|                Hove|                 BE|                    JAAR|      2022-05-16|203f98e289861df6a...|\n",
      "|                 7|                 7|      Dijkstra Frank|        Klamperdreef|         154 |          2900|             Schoten|                 BE|                   MAAND|      2021-12-01|f39e3536e150374e5...|\n",
      "|                 8|                 8|  den Hartog Suzanne|      Kolibriestraat|     138 0608|          2170| Merksem (Antwerpen)|                 BE|                    JAAR|      2023-11-26|d0b5f333b41abc1c3...|\n",
      "|        8589934592|                12|        Simons Thijs|         Bergenhoeve|      81 0302|          2040|Antwerpen/Berendr...|                 BE|                    JAAR|      2023-10-20|654d7701f61f97c80...|\n",
      "|        8589934593|                13|          Groen Rens|  Trompetvogelstraat|           1 |          2170| Merksem (Antwerpen)|                 BE|                    JAAR|      2020-02-28|b21f2533db70b6731...|\n",
      "|        8589934594|                14|   van der Veer Romy|Prosper De Vochtlaan|         177 |          2550|    Kontich/Waarloos|                 BE|                    JAAR|      2023-09-19|2eb3be45c77f12e13...|\n",
      "|        8589934595|                10|van der Steen Carmen|          Benzineweg|         137 |          2020|           Antwerpen|                 BE|                    JAAR|      2021-12-27|9f1a20ed81607e694...|\n",
      "|        8589934596|                11| de Ruijter Daniëlle|      Leo Metsstraat|      21 0905|          2070|  Burcht/Zwijndrecht|                 BE|                   MAAND|      2023-02-02|54f88c53d69780747...|\n",
      "|        8589934597|                18|      Veldman Angela|Emiel Van Hemeldo...|          93 |          2540|                Hove|                 BE|                    JAAR|      2023-08-04|97d38ed6ace5f020f...|\n",
      "|        8589934598|                25|        Blok Vincent|      Korenbloemlaan|         147 |          2900|             Schoten|                 BE|                     DAG|      2019-01-13|e0b27b393c438a909...|\n",
      "|        8589934599|                37|        Postma Niels|        Visserstraat|      82 0602|          2070|  Burcht/Zwijndrecht|                 BE|                    JAAR|      2022-08-02|3f0e58f7ee5568bb8...|\n",
      "|        8589934600|                38|       Peters Stefan|    Kleinebeerstraat|          60 |          2018|           Antwerpen|                 BE|                   MAAND|      2022-11-17|1a57e918b9d0f5c93...|\n",
      "|        8589934601|                46|         Baars Kevin|            Keerbaan|         103 |          2520|Broechem/Emblem/O...|                 BE|                    JAAR|      2023-12-30|03124672e0b0b8de8...|\n",
      "|        8589934602|                50|     Venema Matthijs|         Bollaakdijk|          31 |          2520|Broechem/Emblem/O...|                 BE|                    JAAR|      2022-09-05|cc2eb7ffee540f0b3...|\n",
      "+------------------+------------------+--------------------+--------------------+-------------+--------------+--------------------+-------------------+------------------------+----------------+--------------------+\n",
      "only showing top 20 rows\n",
      "\n"
     ]
    }
   ],
   "execution_count": 21
  },
  {
   "metadata": {},
   "cell_type": "markdown",
   "source": "##### 2 DETECT CHANGES\n",
   "id": "988078b3a69e7871"
  },
  {
   "cell_type": "code",
   "source": [
    "#TRANSFORM\n",
    "detectedChanges = spark.sql(\"\"\"\n",
    "    select * \n",
    "    from dimCustomer_new source\n",
    "        left outer join dimCustomer_current dwh \n",
    "            on dwh.customer_id = source.source_customer_id\n",
    "            and dwh.current == true\n",
    "    where dwh.customer_id is null or dwh.md5 <> source.source_md5\n",
    "\"\"\")\n",
    "detectedChanges.createOrReplaceTempView(\"detectedChanges\")\n",
    "\n",
    "#DEBUG CODE TO SHOW CONTENT OF DETECTED CHANGES\n",
    "detectedChanges.show()"
   ],
   "metadata": {
    "collapsed": false,
    "ExecuteTime": {
     "end_time": "2024-11-03T16:19:30.256843Z",
     "start_time": "2024-11-03T16:19:23.502377Z"
    }
   },
   "id": "a8f9cef1e19ab3d5",
   "outputs": [
    {
     "name": "stdout",
     "output_type": "stream",
     "text": [
      "+------------------+------------------+-----------------+---------------+-------------+--------------+-------------------+-------------------+------------------------+----------------+--------------------+-----------+-----------+-----------------+----------+------+-------+-------------------+------------+-----------------+-------------------+-------------------+----------+---------------+--------------------+-------+\n",
      "|source_customer_SK|source_customer_id|  source_customer|  source_street|source_number|source_zipcode|        source_city|source_country_code|source_subscription_type|source_validform|          source_md5|customer_SK|customer_id|             name|    street|number|zipcode|               city|country_code|subscription_type|          scd_start|            scd_end| validform|subscription_id|                 md5|current|\n",
      "+------------------+------------------+-----------------+---------------+-------------+--------------+-------------------+-------------------+------------------------+----------------+--------------------+-----------+-----------+-----------------+----------+------+-------+-------------------+------------+-----------------+-------------------+-------------------+----------+---------------+--------------------+-------+\n",
      "|                 0|                 2|van der Zee Julia|Steenbergstraat|          43 |          2610|Wilrijk (Antwerpen)|                 BE|                   MAAND|      2021-10-05|73d9101519509eb55...|          0|          2|van der Zee Julia|Europalaan|   43 |   2610|Wilrijk (Antwerpen)|          BE|            MAAND|1999-01-01 00:00:00|2100-12-12 00:00:00|2021-10-05|              4|9d3359c2cb9800783...|   true|\n",
      "+------------------+------------------+-----------------+---------------+-------------+--------------+-------------------+-------------------+------------------------+----------------+--------------------+-----------+-----------+-----------------+----------+------+-------+-------------------+------------+-----------------+-------------------+-------------------+----------+---------------+--------------------+-------+\n",
      "\n"
     ]
    }
   ],
   "execution_count": 22
  },
  {
   "metadata": {},
   "cell_type": "markdown",
   "source": "##### 3 TRANSOFRM TO UPSERTS\n",
   "id": "7c6da69ddc4702b7"
  },
  {
   "cell_type": "code",
   "source": [
    "#TRANSFORM \n",
    "#zoekt de grootste waarde, met de max functie en die doe je +1 en dan zet je die als je nieuwe sk\n",
    "max_customer_SK = spark.sql(\"SELECT COALESCE(MAX(customer_SK), 0) AS max_customer_SK FROM dimCustomer_current\").collect()[0]['max_customer_SK']\n",
    "\n",
    "\n",
    "df_upsert = spark.sql(f\"\"\"\n",
    "    select  \n",
    "       {max_customer_SK} as customer_SK,\n",
    "        source_customer_id as customer_id,\n",
    "        source_customer as name,\n",
    "        source_street, \n",
    "        source_number,\n",
    "        source_zipcode,\n",
    "        source_city, \n",
    "        source_country_code,\n",
    "        source_subscription_type as subscription_type,\n",
    "        to_timestamp('{run_timestamp}') as scd_start,\n",
    "        to_timestamp('2600-01-01', 'yyyy-MM-dd') as scd_end,\n",
    "        true as current,\n",
    "        source_md5 as md5\n",
    "    FROM detectedChanges dc1\n",
    "    union all\n",
    "        select  \n",
    "            customer_SK,\n",
    "            customer_id,\n",
    "            name,\n",
    "            street, \n",
    "            number,\n",
    "            zipcode,\n",
    "            city, \n",
    "            country_code,\n",
    "            subscription_type,\n",
    "            scd_start,\n",
    "            to_timestamp('{run_timestamp}') as scd_end,\n",
    "            false as current,\n",
    "            md5\n",
    "        FROM detectedChanges dc2\n",
    "        where current is not null\n",
    "\"\"\")\n",
    "df_upsert.createOrReplaceTempView(\"upsert\")"
   ],
   "metadata": {
    "collapsed": false,
    "ExecuteTime": {
     "end_time": "2024-11-03T16:19:33.141160Z",
     "start_time": "2024-11-03T16:19:30.332961Z"
    }
   },
   "id": "2257ea410133e355",
   "outputs": [],
   "execution_count": 23
  },
  {
   "cell_type": "code",
   "source": [
    "#DEBUG CODE TO SHOW CONTENT OF UPSERT\n",
    "spark.sql(\"\"\"\n",
    "    select * from upsert\n",
    "\"\"\").show()"
   ],
   "metadata": {
    "collapsed": false,
    "ExecuteTime": {
     "end_time": "2024-11-03T16:19:35.587080Z",
     "start_time": "2024-11-03T16:19:33.163719Z"
    }
   },
   "id": "b24b4eb1173dd9c4",
   "outputs": [
    {
     "name": "stdout",
     "output_type": "stream",
     "text": [
      "+-----------+-----------+-----------------+---------------+-------------+--------------+-------------------+-------------------+-----------------+--------------------+--------------------+-------+--------------------+\n",
      "|customer_SK|customer_id|             name|  source_street|source_number|source_zipcode|        source_city|source_country_code|subscription_type|           scd_start|             scd_end|current|                 md5|\n",
      "+-----------+-----------+-----------------+---------------+-------------+--------------+-------------------+-------------------+-----------------+--------------------+--------------------+-------+--------------------+\n",
      "| 8589994849|          2|van der Zee Julia|Steenbergstraat|          43 |          2610|Wilrijk (Antwerpen)|                 BE|            MAAND|2024-11-03 17:19:...| 2600-01-01 00:00:00|   true|73d9101519509eb55...|\n",
      "|          0|          2|van der Zee Julia|     Europalaan|          43 |          2610|Wilrijk (Antwerpen)|                 BE|            MAAND| 1999-01-01 00:00:00|2024-11-03 17:19:...|  false|9d3359c2cb9800783...|\n",
      "+-----------+-----------+-----------------+---------------+-------------+--------------+-------------------+-------------------+-----------------+--------------------+--------------------+-------+--------------------+\n",
      "\n"
     ]
    }
   ],
   "execution_count": 24
  },
  {
   "cell_type": "code",
   "source": [
    "#CREATE MERGE\n",
    "spark.sql(\"\"\"\n",
    "    MERGE INTO dimCustomer_current as target\n",
    "    using upsert as source on target.customer_id = source.customer_id \n",
    "        and source.current = false \n",
    "        and target.current = true\n",
    "    WHEN MATCHED THEN UPDATE SET scd_end = source.scd_end, current = source.current\n",
    "    WHEN NOT MATCHED THEN INSERT (customer_SK, customer_id, name, street, number, zipcode, city, country_code, subscription_type, scd_start, scd_end, current, md5) values (source.customer_SK, source.customer_id, source.name, source.source_street, source.source_number, source.source_zipcode, source.source_city, source.source_country_code, source.subscription_type, source.scd_start, source.scd_end, source.current, source.md5)\n",
    "\"\"\")\n",
    "\n",
    "#DEBUG CODE TO SHOW CONTENT OF DIMENSION\n",
    "dt_dimCustomer.toDF().sort(\"customer_id\", \"scd_start\").show(100)"
   ],
   "metadata": {
    "collapsed": false,
    "ExecuteTime": {
     "end_time": "2024-11-03T16:19:45.467991Z",
     "start_time": "2024-11-03T16:19:35.653018Z"
    }
   },
   "id": "3aeb930318315eb",
   "outputs": [
    {
     "name": "stdout",
     "output_type": "stream",
     "text": [
      "+-----------+-----------+--------------------+--------------------+--------+-------+--------------------+------------+-----------------+--------------------+--------------------+----------+---------------+--------------------+-------+\n",
      "|customer_SK|customer_id|                name|              street|  number|zipcode|                city|country_code|subscription_type|           scd_start|             scd_end| validform|subscription_id|                 md5|current|\n",
      "+-----------+-----------+--------------------+--------------------+--------+-------+--------------------+------------+-----------------+--------------------+--------------------+----------+---------------+--------------------+-------+\n",
      "|          3|          1|         Bouman Lars|    Somméstraat Said|    156 |   2060|           Antwerpen|          BE|              DAG| 1999-01-01 00:00:00| 2100-12-12 00:00:00|2020-12-14|              3|06a6b6950726fcfb4...|   true|\n",
      "|          0|          2|   van der Zee Julia|          Europalaan|     43 |   2610| Wilrijk (Antwerpen)|          BE|            MAAND| 1999-01-01 00:00:00|2024-11-03 17:19:...|2021-10-05|              4|9d3359c2cb9800783...|  false|\n",
      "| 8589994849|          2|   van der Zee Julia|     Steenbergstraat|     43 |   2610| Wilrijk (Antwerpen)|          BE|            MAAND|2024-11-03 17:19:...| 2600-01-01 00:00:00|      NULL|           NULL|73d9101519509eb55...|   true|\n",
      "|          2|          3|     de Boer Ricardo|   Maria Clarastraat|     80 |   2160|           Wommelgem|          BE|             JAAR| 1999-01-01 00:00:00| 2100-12-12 00:00:00|2022-09-17|              5|430cf139585ed78b6...|   true|\n",
      "|          1|          4|      Willems Angela|Graaf Joseph de P...|     15 |   2900|             Schoten|          BE|              DAG| 1999-01-01 00:00:00| 2100-12-12 00:00:00|2019-04-08|              6|70ba1eea58f357811...|   true|\n",
      "|          6|          5|    Heijnen Patricia|          Meylstraat|    111 |   2540|                Hove|          BE|             JAAR| 1999-01-01 00:00:00| 2100-12-12 00:00:00|2022-05-16|              7|203f98e289861df6a...|   true|\n",
      "|          4|          6|      Driessen Anouk|   Jan Ockegemstraat|168 0107|   2650|              Edegem|          BE|             JAAR| 1999-01-01 00:00:00| 2100-12-12 00:00:00|2023-12-31|             10|20433518c2ec27a18...|   true|\n",
      "|          7|          7|      Dijkstra Frank|        Klamperdreef|    154 |   2900|             Schoten|          BE|            MAAND| 1999-01-01 00:00:00| 2100-12-12 00:00:00|2021-12-01|             11|f39e3536e150374e5...|   true|\n",
      "|          8|          8|  den Hartog Suzanne|      Kolibriestraat|138 0608|   2170| Merksem (Antwerpen)|          BE|             JAAR| 1999-01-01 00:00:00| 2100-12-12 00:00:00|2023-11-26|             13|d0b5f333b41abc1c3...|   true|\n",
      "|          5|          9|            Smit Tim|       Bikschotelaan|     60 |   2600| Berchem (Antwerpen)|          BE|            MAAND| 1999-01-01 00:00:00| 2100-12-12 00:00:00|2023-11-29|             16|ebd2f063f8bb119e3...|   true|\n",
      "| 8589934595|         10|van der Steen Carmen|          Benzineweg|    137 |   2020|           Antwerpen|          BE|             JAAR| 1999-01-01 00:00:00| 2100-12-12 00:00:00|2021-12-27|             19|9f1a20ed81607e694...|   true|\n",
      "| 8589934596|         11| de Ruijter Daniëlle|      Leo Metsstraat| 21 0905|   2070|  Burcht/Zwijndrecht|          BE|            MAAND| 1999-01-01 00:00:00| 2100-12-12 00:00:00|2023-02-02|             20|54f88c53d69780747...|   true|\n",
      "| 8589934592|         12|        Simons Thijs|         Bergenhoeve| 81 0302|   2040|Antwerpen/Berendr...|          BE|             JAAR| 1999-01-01 00:00:00| 2100-12-12 00:00:00|2023-10-20|             23|654d7701f61f97c80...|   true|\n",
      "| 8589934593|         13|          Groen Rens|  Trompetvogelstraat|      1 |   2170| Merksem (Antwerpen)|          BE|             JAAR| 1999-01-01 00:00:00| 2100-12-12 00:00:00|2020-02-28|             24|b21f2533db70b6731...|   true|\n",
      "| 8589934594|         14|   van der Veer Romy|Prosper De Vochtlaan|    177 |   2550|    Kontich/Waarloos|          BE|             JAAR| 1999-01-01 00:00:00| 2100-12-12 00:00:00|2023-09-19|             25|2eb3be45c77f12e13...|   true|\n",
      "| 8589949691|         15|           Hoek Emma|    John Kennedylaan|  9 0801|   2520|Broechem/Emblem/O...|          BE|             JAAR| 1999-01-01 00:00:00| 2100-12-12 00:00:00|2018-07-14|             26|81359c1bde707805c...|   true|\n",
      "| 8589949692|         16|     Stevens Suzanne|              Wijk 2| 19 0802|   2531|              Vremde|          BE|            MAAND| 1999-01-01 00:00:00| 2100-12-12 00:00:00|2020-01-15|             27|2eb90be6877cc73be...|   true|\n",
      "| 8589949693|         17|van den Bosch Rutger|       Schoggestraat|     73 |   2100|  Deurne (Antwerpen)|          BE|              DAG| 1999-01-01 00:00:00| 2100-12-12 00:00:00|2020-03-10|             28|58d59bd39796bde85...|   true|\n",
      "| 8589934597|         18|      Veldman Angela|Emiel Van Hemeldo...|     93 |   2540|                Hove|          BE|             JAAR| 1999-01-01 00:00:00| 2100-12-12 00:00:00|2023-08-04|             29|97d38ed6ace5f020f...|   true|\n",
      "| 8589949694|         19|     Bakker Daniëlle|            Fortbaan|     88 |   2160|           Wommelgem|          BE|             JAAR| 1999-01-01 00:00:00| 2100-12-12 00:00:00|2019-10-15|             30|7088a5a94e8e12fb7...|   true|\n",
      "| 8589949695|         20|      Vink Elisabeth|  Joseph Wateletlaan|100 0403|   2160|           Wommelgem|          BE|             JAAR| 1999-01-01 00:00:00| 2100-12-12 00:00:00|2018-01-22|             31|acd16b4ac9f8f16dc...|   true|\n",
      "| 8589979809|         21|        Muller Simon|    Montevideostraat|     87 |   2000|           Antwerpen|          BE|              DAG| 1999-01-01 00:00:00| 2100-12-12 00:00:00|2018-10-29|             32|071b4daaa63dc5bfb...|   true|\n",
      "| 8589964770|         22|     Dijkstra Justin|Joseph Van Hellem...|    129 |   2531|              Vremde|          BE|            MAAND| 1999-01-01 00:00:00| 2100-12-12 00:00:00|2018-11-17|             33|58efc159998bdb50f...|   true|\n",
      "| 8589949696|         23|     Gerrits Marleen|Floris de Cuijper...|     70 |   2640|             Mortsel|          BE|              DAG| 1999-01-01 00:00:00| 2100-12-12 00:00:00|2021-12-20|             35|f66ff2bb5acf91321...|   true|\n",
      "| 8589979810|         24|        Schepers Roy|Camille Huysmanslaan|     14 |   2020|           Antwerpen|          BE|             JAAR| 1999-01-01 00:00:00| 2100-12-12 00:00:00|2019-08-13|             36|0dffd8fe63ccbf35e...|   true|\n",
      "| 8589934598|         25|        Blok Vincent|      Korenbloemlaan|    147 |   2900|             Schoten|          BE|              DAG| 1999-01-01 00:00:00| 2100-12-12 00:00:00|2019-01-13|             37|e0b27b393c438a909...|   true|\n",
      "| 8589979811|         26|    van Velzen Joris|     Rijkerooistraat|117 0901|   2550|    Kontich/Waarloos|          BE|            MAAND| 1999-01-01 00:00:00| 2100-12-12 00:00:00|2023-12-18|             40|580939ec08943302e...|   true|\n",
      "| 8589979812|         27|   Terpstra Jonathan|          Wilgenlaan|    364 |   2160|           Wommelgem|          BE|             JAAR| 1999-01-01 00:00:00| 2100-12-12 00:00:00|2018-06-29|             41|f4fec48018de1da27...|   true|\n",
      "| 8589964771|         28|       de Groot Ilse|          Asberglaan|    281 |   2530|            Boechout|          BE|              DAG| 1999-01-01 00:00:00| 2100-12-12 00:00:00|2021-05-14|             42|ced2c5ffccf06e2ab...|   true|\n",
      "| 8589949697|         29|        Brinkman Eva|         Middelkaart|170 0902|   2930|          Brasschaat|          BE|            MAAND| 1999-01-01 00:00:00| 2100-12-12 00:00:00|2023-05-18|             44|113243c4d43365501...|   true|\n",
      "| 8589949698|         30|           Boer René|         Douglaslaan|181 0907|   2240|Massenhoven/Viers...|          BE|             JAAR| 1999-01-01 00:00:00| 2100-12-12 00:00:00|2023-06-20|             45|cfdef8fec94b404d8...|   true|\n",
      "| 8589964772|         31|      Verheijen Rens|        Dinantstraat|119 0103|   2000|           Antwerpen|          BE|              DAG| 1999-01-01 00:00:00| 2100-12-12 00:00:00|2020-10-23|             46|0df73c51e24918636...|   true|\n",
      "| 8589964773|         32|        Martens Sven|     Alice Nahonlaan|164 0203|   2070|  Burcht/Zwijndrecht|          BE|              DAG| 1999-01-01 00:00:00| 2100-12-12 00:00:00|2023-02-13|             47|47372889542fb9f0a...|   true|\n",
      "| 8589979813|         33|      Hendriks Tessa|          Erikadreef|    528 |   2900|             Schoten|          BE|             JAAR| 1999-01-01 00:00:00| 2100-12-12 00:00:00|2021-04-22|             48|6991134b5777bc5d6...|   true|\n",
      "| 8589979814|         34|        Janssen Sven|     Cretenborchlaan|    121 |   9120|Beveren-Waas/Haas...|          BE|             JAAR| 1999-01-01 00:00:00| 2100-12-12 00:00:00|2021-12-11|             49|4fe916509d47fbb4d...|   true|\n",
      "| 8589979815|         35|     van Rijn Daphne|           Cogelslei| 69 0304|   2640|             Mortsel|          BE|             JAAR| 1999-01-01 00:00:00| 2100-12-12 00:00:00|2021-04-05|             50|1e372fca9d527b066...|   true|\n",
      "| 8589964774|         36| van den Bos Jacobus|            Elzasweg|     90 |   2030|           Antwerpen|          BE|             JAAR| 1999-01-01 00:00:00| 2100-12-12 00:00:00|2022-11-23|             52|98aec4a5c17339b3d...|   true|\n",
      "| 8589934599|         37|        Postma Niels|        Visserstraat| 82 0602|   2070|  Burcht/Zwijndrecht|          BE|             JAAR| 1999-01-01 00:00:00| 2100-12-12 00:00:00|2022-08-02|             53|3f0e58f7ee5568bb8...|   true|\n",
      "| 8589934600|         38|       Peters Stefan|    Kleinebeerstraat|     60 |   2018|           Antwerpen|          BE|            MAAND| 1999-01-01 00:00:00| 2100-12-12 00:00:00|2022-11-17|             56|1a57e918b9d0f5c93...|   true|\n",
      "| 8589949699|         39|        Snijders Max|Jacob Jordaensstraat|613 0306|   2900|             Schoten|          BE|            MAAND| 1999-01-01 00:00:00| 2100-12-12 00:00:00|2022-10-31|             59|513e26b399828edaa...|   true|\n",
      "| 8589949700|         40|   van der Laan Nick|           Salielaan|    184 |   2520|Broechem/Emblem/O...|          BE|             JAAR| 1999-01-01 00:00:00| 2100-12-12 00:00:00|2022-07-31|             60|b851d581741de8dc3...|   true|\n",
      "| 8589979816|         41|van den Heuvel St...|       Vuurkruislaan|    102 |   2610| Wilrijk (Antwerpen)|          BE|             JAAR| 1999-01-01 00:00:00| 2100-12-12 00:00:00|2022-11-14|             62|0334a263832568e25...|   true|\n",
      "| 8589949701|         42|  van der Velden Tom|         Beemdenlaan|    353 |   2900|             Schoten|          BE|             JAAR| 1999-01-01 00:00:00| 2100-12-12 00:00:00|2023-11-11|             63|5c4e1830b683a3892...|   true|\n",
      "| 8589949702|         43|      Bos Wilhelmina|          Rostockweg|698 0705|   2030|           Antwerpen|          BE|              DAG| 1999-01-01 00:00:00| 2100-12-12 00:00:00|2020-03-26|             65|f1a80c1b41556d39d...|   true|\n",
      "| 8589949703|         44|  de Vries Alexander|            Rauwaard|139 0603|   2550|    Kontich/Waarloos|          BE|             JAAR| 1999-01-01 00:00:00| 2100-12-12 00:00:00|2019-09-29|             66|4f67cc5573ddf4e2d...|   true|\n",
      "| 8589964775|         45|    de Lange Danique|     Violierenstraat|     40 |   9120|Beveren-Waas/Haas...|          BE|             JAAR| 1999-01-01 00:00:00| 2100-12-12 00:00:00|2022-03-28|             68|71a7dbc5cd25b4bd7...|   true|\n",
      "| 8589934601|         46|         Baars Kevin|            Keerbaan|    103 |   2520|Broechem/Emblem/O...|          BE|             JAAR| 1999-01-01 00:00:00| 2100-12-12 00:00:00|2023-12-30|             71|03124672e0b0b8de8...|   true|\n",
      "| 8589979817|         47| van den Bosch Esmée|         Dorpsstraat|134 0905|   2640|             Mortsel|          BE|             JAAR| 1999-01-01 00:00:00| 2100-12-12 00:00:00|2019-01-19|             72|26ed2ecdf301ac695...|   true|\n",
      "| 8589949704|         48|         Post Martin|Jozef Posenaerstraat|  2 0207|   2140|Borgerhout (Antwe...|          BE|              DAG| 1999-01-01 00:00:00| 2100-12-12 00:00:00|2022-11-23|             74|64cdd8feedbe824c5...|   true|\n",
      "| 8589964776|         49|        Vermeer Vera|            Vaartweg|184 0707|   2100|  Deurne (Antwerpen)|          BE|              DAG| 1999-01-01 00:00:00| 2100-12-12 00:00:00|2020-08-29|             75|cea13490c168cd675...|   true|\n",
      "| 8589934602|         50|     Venema Matthijs|         Bollaakdijk|     31 |   2520|Broechem/Emblem/O...|          BE|             JAAR| 1999-01-01 00:00:00| 2100-12-12 00:00:00|2022-09-05|             76|cc2eb7ffee540f0b3...|   true|\n",
      "| 8589949705|         51|         Faber Joris|          Janssenlei|     55 |   2530|            Boechout|          BE|             JAAR| 1999-01-01 00:00:00| 2100-12-12 00:00:00|2021-06-24|             77|ddb551cdc172846d6...|   true|\n",
      "| 8589934603|         52|     van Egmond Niek|     Nachtegalenlaan| 44 0006|   2540|                Hove|          BE|             JAAR| 1999-01-01 00:00:00| 2100-12-12 00:00:00|2019-05-07|             78|92fee316da27d09cf...|   true|\n",
      "| 8589949706|         53|           Klein Rik|        Kanaalstraat|    537 |   2520|Broechem/Emblem/O...|          BE|             JAAR| 1999-01-01 00:00:00| 2100-12-12 00:00:00|2022-01-06|             79|2d5f04747ad9a0268...|   true|\n",
      "| 8589949707|         54|van der Horst Maaike|Frans De Peuterst...|159 0105|   2950|    Kapellen (Antw.)|          BE|             JAAR| 1999-01-01 00:00:00| 2100-12-12 00:00:00|2023-05-10|             80|edc7aec010c0e11d5...|   true|\n",
      "| 8589964777|         55|       Geurts Pieter|Falco de Lampagne...|     91 |   2000|           Antwerpen|          BE|             JAAR| 1999-01-01 00:00:00| 2100-12-12 00:00:00|2019-08-31|             83|e13a5e995d6c2021c...|   true|\n",
      "| 8589934604|         56|         Prins Elise|      Jennevalstraat|    233 |   2600| Berchem (Antwerpen)|          BE|             JAAR| 1999-01-01 00:00:00| 2100-12-12 00:00:00|2021-12-25|             84|63ad99666a4e6a1c7...|   true|\n",
      "| 8589964778|         57|       van Eijk Timo|        De Morrekens|     21 |   2845|                Niel|          BE|            MAAND| 1999-01-01 00:00:00| 2100-12-12 00:00:00|2022-04-10|             85|043490d724b021f9f...|   true|\n",
      "| 8589964779|         58|  van Rooij Jennifer|        De Moystraat|    193 |   2018|           Antwerpen|          BE|            MAAND| 1999-01-01 00:00:00| 2100-12-12 00:00:00|2020-05-14|             86|23e864ba986fb9264...|   true|\n",
      "| 8589964780|         59|     van Velzen Leon|          Elzestraat|    256 |   9120|Beveren-Waas/Haas...|          BE|             JAAR| 1999-01-01 00:00:00| 2100-12-12 00:00:00|2020-05-13|             87|d79bdfffab28f420c...|   true|\n",
      "| 8589964781|         60|   Schipper Bastiaan|      De Sossastraat|     81 |   2100|  Deurne (Antwerpen)|          BE|             JAAR| 1999-01-01 00:00:00| 2100-12-12 00:00:00|2021-08-10|             88|6d826f5b06e6f20c9...|   true|\n",
      "| 8589949708|         61|van Leeuwen Samantha|            De Kluis|    122 |   2970|s Gravenwezel/Sch...|          BE|             JAAR| 1999-01-01 00:00:00| 2100-12-12 00:00:00|2023-10-21|             90|f838f322d2c6b6c93...|   true|\n",
      "| 8589949709|         62|       Joosten Bryan|         Peperstraat|     66 |   2627|             Schelle|          BE|              DAG| 1999-01-01 00:00:00| 2100-12-12 00:00:00|2021-02-02|             91|054325119ed16f57f...|   true|\n",
      "| 8589979818|         63|      Stevens Sandra|          Steenakker|223 0308|   2550|    Kontich/Waarloos|          BE|            MAAND| 1999-01-01 00:00:00| 2100-12-12 00:00:00|2020-07-21|             92|e8bf9ae2bad5b5296...|   true|\n",
      "| 8589949710|         64|  van Rooijen Wouter|         Bergendreef|197 0006|   2970|s Gravenwezel/Sch...|          BE|             JAAR| 1999-01-01 00:00:00| 2100-12-12 00:00:00|2022-11-28|             94|bbce97e6fa49acb36...|   true|\n",
      "| 8589934605|         65|    van Rooijen Emma|          Kerkstraat|    109 |   2840| Reet/Rumst/Terhagen|          BE|             JAAR| 1999-01-01 00:00:00| 2100-12-12 00:00:00|2023-08-27|             95|091eb47733546882f...|   true|\n",
      "| 8589979819|         66|        Hoekstra Rob|      Warschaustraat|    508 |   2660| Hoboken (Antwerpen)|          BE|             JAAR| 1999-01-01 00:00:00| 2100-12-12 00:00:00|2023-12-25|             98|e9cf5b298a0eacafb...|   true|\n",
      "| 8589934606|         67|       Verhoef Menno|  Henri Dunantstraat|    248 |   2660| Hoboken (Antwerpen)|          BE|              DAG| 1999-01-01 00:00:00| 2100-12-12 00:00:00|2018-12-30|             99|2f7ca008d940ddb9e...|   true|\n",
      "| 8589949711|         68|          Kroon Vera|   Blauwesteenstraat|     17 |   2550|    Kontich/Waarloos|          BE|             JAAR| 1999-01-01 00:00:00| 2100-12-12 00:00:00|2022-11-05|            100|2305067438033743c...|   true|\n",
      "| 8589979820|         69|    Roelofs Jennifer| Steenberghoekstraat|     57 |   2840| Reet/Rumst/Terhagen|          BE|             JAAR| 1999-01-01 00:00:00| 2100-12-12 00:00:00|2021-10-02|            101|eeb74f01a43061efa...|   true|\n",
      "| 8589934607|         70|        Wouters Joep|Jan Frans Favelet...|    752 |   9120|Beveren-Waas/Haas...|          BE|             JAAR| 1999-01-01 00:00:00| 2100-12-12 00:00:00|2018-01-08|            102|8b80dca4d2c5d2bcb...|   true|\n",
      "| 8589949712|         71|    Simons Charlotte|      Veldovenstraat|      6 |   2845|                Niel|          BE|             JAAR| 1999-01-01 00:00:00| 2100-12-12 00:00:00|2020-03-17|            103|acf852276baf429c1...|   true|\n",
      "| 8589979821|         72|     Rutten Jennifer|    Sint-Jozefstraat|     31 |   2018|           Antwerpen|          BE|             JAAR| 1999-01-01 00:00:00| 2100-12-12 00:00:00|2023-11-05|            104|a03ef3c39e83b1750...|   true|\n",
      "| 8589934608|         73|    van Rijn Johanna|          Mereldreef|     94 |   2970|s Gravenwezel/Sch...|          BE|             JAAR| 1999-01-01 00:00:00| 2100-12-12 00:00:00|2019-04-23|            105|f636f06ad6031983e...|   true|\n",
      "| 8589949713|         74|          Postma Noa|      Boereveldseweg| 28 0104|   2070|  Burcht/Zwijndrecht|          BE|             JAAR| 1999-01-01 00:00:00| 2100-12-12 00:00:00|2023-12-09|            106|ef3ed05b7907ed74e...|   true|\n",
      "| 8589979822|         75| van Lieshout Julian|          Nothomblei|    116 |   2930|          Brasschaat|          BE|            MAAND| 1999-01-01 00:00:00| 2100-12-12 00:00:00|2021-08-25|            107|d01eded338d1649ed...|   true|\n",
      "| 8589964782|         76| de Bruin Wilhelmina|            Peedreef| 76 0506|   2950|    Kapellen (Antw.)|          BE|             JAAR| 1999-01-01 00:00:00| 2100-12-12 00:00:00|2020-07-12|            108|8edc06b772b787c6f...|   true|\n",
      "| 8589964783|         77|          Prins Joey|          Luikstraat|     72 |   2000|           Antwerpen|          BE|             JAAR| 1999-01-01 00:00:00| 2100-12-12 00:00:00|2023-07-28|            110|76d331c67c7015cf6...|   true|\n",
      "| 8589979823|         78|  van den Bosch Iris|        Klein Heiken|    192 |   2950|    Kapellen (Antw.)|          BE|             JAAR| 1999-01-01 00:00:00| 2100-12-12 00:00:00|2023-09-17|            111|139e7623ccf9987f5...|   true|\n",
      "| 8589964784|         79|     Baars Alexander|         Bollaakdijk|    115 |   2520|Broechem/Emblem/O...|          BE|             JAAR| 1999-01-01 00:00:00| 2100-12-12 00:00:00|2020-01-12|            112|d26e3b520bc4ea1b9...|   true|\n",
      "| 8589979824|         80|     Visser Patricia|          Wouwstraat|    364 |   2540|                Hove|          BE|             JAAR| 1999-01-01 00:00:00| 2100-12-12 00:00:00|2018-09-26|            113|c7b878fce737f757a...|   true|\n",
      "| 8589949714|         81|  van der Meer Jordi|           Tenenveld|    122 |   2610| Wilrijk (Antwerpen)|          BE|             JAAR| 1999-01-01 00:00:00| 2100-12-12 00:00:00|2023-09-16|            116|ce862e4d54d0bd050...|   true|\n",
      "| 8589949715|         82|    van Rooij Rachel|    Hagepredikerspad|    139 |   2600| Berchem (Antwerpen)|          BE|             JAAR| 1999-01-01 00:00:00| 2100-12-12 00:00:00|2020-12-18|            118|17c4aef6db2b9feb3...|   true|\n",
      "| 8589934609|         83|      Dekkers Casper|Maria de Heeltstraat| 73 0103|   2100|  Deurne (Antwerpen)|          BE|             JAAR| 1999-01-01 00:00:00| 2100-12-12 00:00:00|2018-05-06|            119|3ffbba44149f68b40...|   true|\n",
      "| 8589949716|         84|       Boersma Jordi|   Sint-Gummarusveld|    616 |   2520|Broechem/Emblem/O...|          BE|              DAG| 1999-01-01 00:00:00| 2100-12-12 00:00:00|2022-08-19|            122|231170ad625251d29...|   true|\n",
      "| 8589979825|         85|      van Gils Sarah|    Alfred Oststraat|    224 |   2070|  Burcht/Zwijndrecht|          BE|              DAG| 1999-01-01 00:00:00| 2100-12-12 00:00:00|2022-03-08|            123|8907f3f4635ade1f5...|   true|\n",
      "| 8589949717|         86|       Kuijpers Emma|              Vesten|     78 |   9120|Beveren-Waas/Haas...|          BE|             JAAR| 1999-01-01 00:00:00| 2100-12-12 00:00:00|2020-06-15|            124|76e91e316cb959f9d...|   true|\n",
      "| 8589979826|         87|         Joosten Rik|       Ruytermansweg|153 0802|   2040|Antwerpen/Berendr...|          BE|              DAG| 1999-01-01 00:00:00| 2100-12-12 00:00:00|2022-12-24|            125|ce951cdc054d0471b...|   true|\n",
      "| 8589964785|         88|     Wiersma Michael|          Beekstraat|    316 |   9150|Bazel/Kruibeke/Ru...|          BE|             JAAR| 1999-01-01 00:00:00| 2100-12-12 00:00:00|2019-10-05|            126|64622b92f87d9e515...|   true|\n",
      "| 8589979827|         89|        Faber Nienke|Generaal Belliard...|      5 |   2000|           Antwerpen|          BE|             JAAR| 1999-01-01 00:00:00| 2100-12-12 00:00:00|2020-09-05|            127|a59d25d59d445a5a3...|   true|\n",
      "| 8589964786|         90|       Timmerman Rob|Pieter De Ridders...| 34 0307|   2100|  Deurne (Antwerpen)|          BE|             JAAR| 1999-01-01 00:00:00| 2100-12-12 00:00:00|2022-11-29|            130|d0365836ef42c5583...|   true|\n",
      "| 8589979828|         91|         Bosma Jordy|Lodewijk Gerritslaan|    194 |   2600| Berchem (Antwerpen)|          BE|             JAAR| 1999-01-01 00:00:00| 2100-12-12 00:00:00|2020-07-16|            131|47e93c916445a8923...|   true|\n",
      "| 8589964787|         92|     Smulders Sjoerd|       Jezuïetenlaan|     10 |   2610| Wilrijk (Antwerpen)|          BE|              DAG| 1999-01-01 00:00:00| 2100-12-12 00:00:00|2021-01-01|            132|820dc56d115b05567...|   true|\n",
      "| 8589934610|         93|     Kuijpers Simone|          Kapellelei| 29 0706|   2640|             Mortsel|          BE|             JAAR| 1999-01-01 00:00:00| 2100-12-12 00:00:00|2022-08-05|            133|42563bea6712371c1...|   true|\n",
      "| 8589949718|         94|   van Dalen Melanie|         De Biesaard|     17 |   2970|s Gravenwezel/Sch...|          BE|            MAAND| 1999-01-01 00:00:00| 2100-12-12 00:00:00|2018-12-11|            135|9b3eeff17e69471b6...|   true|\n",
      "| 8589934611|         95|      Verhagen Mandy|         Hamerplaats|    121 |   2000|           Antwerpen|          BE|             JAAR| 1999-01-01 00:00:00| 2100-12-12 00:00:00|2021-08-28|            137|dcfc54c1daa197218...|   true|\n",
      "| 8589979829|         96|  van den Akker Nick|            Guyotlei|    106 |   2950|    Kapellen (Antw.)|          BE|              DAG| 1999-01-01 00:00:00| 2100-12-12 00:00:00|2023-12-22|            138|28fcce6789fb619e3...|   true|\n",
      "| 8589934612|         97|     Hendriks Carmen|        Wisselstraat|  8 0901|   2970|s Gravenwezel/Sch...|          BE|             JAAR| 1999-01-01 00:00:00| 2100-12-12 00:00:00|2023-04-07|            139|62d5e41eb46b8448a...|   true|\n",
      "| 8589964788|         98|      Franken Yvonne|         Bellestraat|134 0206|   2030|           Antwerpen|          BE|              DAG| 1999-01-01 00:00:00| 2100-12-12 00:00:00|2023-12-26|            142|f1282e2c1eef18a53...|   true|\n",
      "| 8589949719|         99|      Terpstra Manon|   Joe Englishstraat| 95 0102|   2140|Borgerhout (Antwe...|          BE|             JAAR| 1999-01-01 00:00:00| 2100-12-12 00:00:00|2021-08-20|            143|db9c8f8f22988646c...|   true|\n",
      "+-----------+-----------+--------------------+--------------------+--------+-------+--------------------+------------+-----------------+--------------------+--------------------+----------+---------------+--------------------+-------+\n",
      "only showing top 100 rows\n",
      "\n"
     ]
    }
   ],
   "execution_count": 25
  },
  {
   "cell_type": "code",
   "source": [
    "spark.stop()"
   ],
   "metadata": {
    "collapsed": false,
    "ExecuteTime": {
     "end_time": "2024-11-03T16:19:45.897375Z",
     "start_time": "2024-11-03T16:19:45.515793Z"
    }
   },
   "id": "ed7f2dd4a7587e5d",
   "outputs": [],
   "execution_count": 26
  }
 ],
 "metadata": {
  "kernelspec": {
   "display_name": "Python 3",
   "language": "python",
   "name": "python3"
  },
  "language_info": {
   "codemirror_mode": {
    "name": "ipython",
    "version": 2
   },
   "file_extension": ".py",
   "mimetype": "text/x-python",
   "name": "python",
   "nbconvert_exporter": "python",
   "pygments_lexer": "ipython2",
   "version": "2.7.6"
  }
 },
 "nbformat": 4,
 "nbformat_minor": 5
}
