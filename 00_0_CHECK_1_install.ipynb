{
 "cells": [
  {
   "cell_type": "markdown",
   "source": [
    "## Installation Check\n",
    "You should be able to run all cells to advance with the course.\n",
    "Every cell has some troubleshooting guidelines included.\n",
    "\n",
    "### Step 1 : Importing needed modules\n",
    "Possible error solutions:\n",
    "1. Check if the needed packages are installed correctly (View > Tool windows > Python Packages). If not, run the requirements.txt again.\n",
    "2. If you applied some changes to the environment during this session, restart the PyCharme IDE."
   ],
   "metadata": {
    "collapsed": false
   }
  },
  {
   "cell_type": "code",
   "metadata": {
    "collapsed": true,
    "ExecuteTime": {
<<<<<<< HEAD
     "end_time": "2024-10-05T13:46:34.337387Z",
     "start_time": "2024-10-05T13:46:34.333811Z"
=======
     "end_time": "2024-10-05T11:28:06.507218Z",
     "start_time": "2024-10-05T11:28:06.103983Z"
>>>>>>> aae81819d776e09352dde843c9e9630e91018fdd
    }
   },
   "source": [
    "from pyspark.sql import SparkSession\n",
    "from delta import configure_spark_with_delta_pip"
   ],
   "outputs": [],
   "execution_count": 10
  },
  {
   "cell_type": "markdown",
   "source": [
    "### Step 2 : Setting up environment variables\n",
    "To avoid setting up the environment variables in your os, this code will set the correct variables. Make sure you adjusted ConnectionConfig.py with the correct directories.\n",
    "Look closely at the listed variables to make sure everything is set correctly. PATH, HADOOP_HOME, JAVA_HOME and SPARK_HOME should be set correctly.\n"
   ],
   "metadata": {
    "collapsed": false
   }
  },
  {
   "cell_type": "code",
   "source": [
    "import ConnectionConfig as cc\n",
    "cc.setupEnvironment()\n",
    "cc.listEnvironment()"
   ],
   "metadata": {
    "collapsed": false,
    "ExecuteTime": {
<<<<<<< HEAD
     "end_time": "2024-10-05T13:46:34.391162Z",
     "start_time": "2024-10-05T13:46:34.385599Z"
=======
     "end_time": "2024-10-05T11:28:17.877438Z",
     "start_time": "2024-10-05T11:28:17.818253Z"
>>>>>>> aae81819d776e09352dde843c9e9630e91018fdd
    }
   },
   "outputs": [
    {
     "name": "stdout",
     "output_type": "stream",
     "text": [
      "ALLUSERSPROFILE: C:\\ProgramData\n",
      "APPDATA: C:\\Users\\saidk\\AppData\\Roaming\n",
      "ASL.LOG: Destination=file\n",
      "COMMONPROGRAMFILES: C:\\Program Files\\Common Files\n",
      "COMMONPROGRAMFILES(X86): C:\\Program Files (x86)\\Common Files\n",
      "COMMONPROGRAMW6432: C:\\Program Files\\Common Files\n",
      "COMPUTERNAME: SAID-KHALAF\n",
      "COMSPEC: C:\\Windows\\system32\\cmd.exe\n",
      "CONDA_DEFAULT_ENV: base\n",
      "CONDA_PREFIX: C:\\Users\\saidk\\miniconda3\n",
      "CONDA_PROMPT_MODIFIER: (base) \n",
      "CONDA_SHLVL: 1\n",
      "DRIVERDATA: C:\\Windows\\System32\\Drivers\\DriverData\n",
<<<<<<< HEAD
      "EFC_1996: 1\n",
      "FPS_BROWSER_APP_PROFILE_STRING: Internet Explorer\n",
      "FPS_BROWSER_USER_PROFILE_STRING: Default\n",
      "HOMEDRIVE: C:\n",
      "HOMEPATH: \\Users\\ssaai\n",
      "IPY_INTERRUPT_EVENT: 1612\n",
      "JPY_INTERRUPT_EVENT: 1612\n",
      "JPY_PARENT_PID: 1580\n",
      "JPY_SESSION_NAME: 00_0_CHECK_1_install.ipynb\n",
=======
      "EFC_7508: 1\n",
      "FPS_BROWSER_APP_PROFILE_STRING: Internet Explorer\n",
      "FPS_BROWSER_USER_PROFILE_STRING: Default\n",
      "HOMEDRIVE: C:\n",
      "HOMEPATH: \\Users\\saidk\n",
      "IDEA_INITIAL_DIRECTORY: C:\\Users\\saidk\n",
      "IGCCSVC_DB: AQAAANCMnd8BFdERjHoAwE/Cl+sBAAAAyWHQQ0UE1EybUO2X28QUdAQAAAACAAAAAAAQZgAAAAEAACAAAACnQfPzRgQfLDsFfSA8yUOlGDgWhclc8+UiXNzfZ6vyfQAAAAAOgAAAAAIAACAAAACmsL61oyMd90tFxJ2o07U7jFSVs8QBAEYbW8GGxh0lQGAAAADZW7PuVVN1xrB8XMybUg4VuohhEvg2y7EtyRkL0ixCJEWB6mIJ63wAZJ1d56BcTP5ivzGYlSMvrOPEJ46RadHt7Ga+sTruwrK7noPoYjO4Pe2H8VmOQKVitCxiLxrnKqtAAAAAXUJVbtr76zut+OVP458xzpZXR4dNPMe+X/u1GgtWk+juReuOTvOYyxZJqJZK0PoXS+58slyVeh91UC/+DZONBw==\n",
      "IJ_RESTARTER_LOG: C:\\Users\\saidk\\AppData\\Local\\JetBrains\\IntelliJIdea2024.1\\log\\restarter.log\n",
      "INTELLIJ IDEA: C:\\Program Files\\JetBrains\\IntelliJ IDEA 2023.1.2\\bin;\n",
>>>>>>> aae81819d776e09352dde843c9e9630e91018fdd
      "LANG: en_US.UTF-8\n",
      "LANGUAGE: \n",
      "LC_ALL: en_US.UTF-8\n",
      "LOCALAPPDATA: C:\\Users\\saidk\\AppData\\Local\n",
      "LOGONSERVER: \\\\SAID-KHALAF\n",
      "NUMBER_OF_PROCESSORS: 20\n",
      "ONEDRIVE: C:\\Users\\saidk\\OneDrive - KdG\n",
      "ONEDRIVECOMMERCIAL: C:\\Users\\saidk\\OneDrive - KdG\n",
      "OS: Windows_NT\n",
<<<<<<< HEAD
      "PATH: C:\\KDG 2024-25\\Data Analytics\\sparkdelta\\venv\\Scripts;C:\\Program Files\\Common Files\\Oracle\\Java\\javapath;C:\\Program Files (x86)\\Common Files\\Oracle\\Java\\java8path;C:\\Program Files (x86)\\Common Files\\Oracle\\Java\\javapath;C:\\Program Files\\Microsoft\\jdk-11.0.16.101-hotspot\\bin;C:\\WINDOWS\\system32;C:\\WINDOWS;C:\\WINDOWS\\System32\\Wbem;C:\\WINDOWS\\System32\\WindowsPowerShell\\v1.0\\;C:\\WINDOWS\\System32\\OpenSSH\\;C:\\Program Files\\PuTTY\\;C:\\Program Files\\dotnet\\;C:\\Program Files\\Microsoft SQL Server\\150\\Tools\\Binn\\;C:\\Program Files\\Microsoft SQL Server\\Client SDK\\ODBC\\170\\Tools\\Binn\\;C:\\Kdg\\UI\\;C:\\Program Files\\Git\\cmd;C:\\Users\\ssaai\\AppData\\Local\\Programs\\Python\\Python311\\Scripts\\;C:\\Users\\ssaai\\AppData\\Local\\Programs\\Python\\Python311\\;C:\\Program Files\\MySQL\\MySQL Shell 8.0\\bin\\;C:\\Users\\ssaai\\AppData\\Local\\Microsoft\\WindowsApps;C:\\Users\\ssaai\\AppData\\Local\\JetBrains\\Toolbox\\scripts;;C:\\Users\\ssaai\\AppData\\Local\\Microsoft\\WindowsApps;C:\\Users\\ssaai\\AppData\\Local\\Programs\\Microsoft VS Code\\bin;C:\\Users\\ssaai\\.dotnet\\tools;C:\\Users\\ssaai\\AppData\\Roaming\\npm;C:\\tools\\bigdatatools\\spark-3.5.2-bin-hadoop3\\bin;C:\\tools\\bigdatatools\\hadoop-3.4.0-win10-x64\\bin;C:\\Program Files\\Java\\jdk-17\\bin;C:\\tools\\bigdatatools\\spark-3.5.2-bin-hadoop3\\bin;C:\\tools\\bigdatatools\\hadoop-3.4.0-win10-x64\\bin;C:\\Program Files\\Java\\jdk-17\\bin\n",
=======
      "PATH: C:\\Users\\saidk\\miniconda3;C:\\Users\\saidk\\miniconda3\\Library\\mingw-w64\\bin;C:\\Users\\saidk\\miniconda3\\Library\\usr\\bin;C:\\Users\\saidk\\miniconda3\\Library\\bin;C:\\Users\\saidk\\miniconda3\\Scripts;C:\\Users\\saidk\\miniconda3\\bin;C:\\Users\\saidk\\miniconda3\\condabin;C:\\Program Files\\Common Files\\Oracle\\Java\\javapath;C:\\Program Files (x86)\\Common Files\\Oracle\\Java\\java8path;C:\\Program Files (x86)\\Common Files\\Oracle\\Java\\javapath;C:\\Windows\\system32;C:\\Windows;C:\\Windows\\System32\\Wbem;C:\\Windows\\System32\\WindowsPowerShell\\v1.0;C:\\Windows\\System32\\OpenSSH;C:\\Program Files\\dotnet;C:\\Program Files\\PuTTY;C:\\Program Files\\Graphviz\\bin;C:\\Program Files\\Graphviz\\bin;C:\\Program Files\\nodejs;C:\\Program Files\\Docker\\Docker\\resources\\bin;C:\\Program Files\\Git\\cmd;C:\\Users\\saidk\\AppData\\Local\\Programs\\Python\\Python311\\Scripts;C:\\Users\\saidk\\AppData\\Local\\Programs\\Python\\Python311;C:\\Users\\saidk\\AppData\\Local\\Programs\\Python\\Launcher;C:\\Users\\saidk\\AppData\\Local\\Microsoft\\WindowsApps;.;C:\\Users\\saidk\\AppData\\Local\\Programs\\Microsoft VS Code\\bin;C:\\Program Files\\JetBrains\\IntelliJ IDEA 2023.1.2\\bin;.;C:\\Users\\saidk\\.dotnet\\tools;C:\\Users\\saidk\\AppData\\Roaming\\npm;C:\\Users\\saidk\\miniconda3\\Library\\Bin;C:\\tools\\bigdatatools\\spark-3.5.2-bin-hadoop3\\bin;C:\\tools\\bigdatatools\\hadoop-3.4.0-win10-x64\\bin;C:\\Program Files\\Java\\jdk-17\\bin\n",
>>>>>>> aae81819d776e09352dde843c9e9630e91018fdd
      "PATHEXT: .COM;.EXE;.BAT;.CMD;.VBS;.VBE;.JS;.JSE;.WSF;.WSH;.MSC\n",
      "PROCESSOR_ARCHITECTURE: AMD64\n",
      "PROCESSOR_IDENTIFIER: Intel64 Family 6 Model 186 Stepping 2, GenuineIntel\n",
      "PROCESSOR_LEVEL: 6\n",
      "PROCESSOR_REVISION: ba02\n",
      "PROGRAMDATA: C:\\ProgramData\n",
      "PROGRAMFILES: C:\\Program Files\n",
      "PROGRAMFILES(X86): C:\\Program Files (x86)\n",
      "PROGRAMW6432: C:\\Program Files\n",
      "PROMPT: (base) $P$G\n",
      "PSMODULEPATH: C:\\Program Files\\WindowsPowerShell\\Modules;C:\\Windows\\system32\\WindowsPowerShell\\v1.0\\Modules\n",
      "PT8HOME: C:\\Program Files\\Cisco Packet Tracer 8.2.1\n",
      "PUBLIC: C:\\Users\\Public\n",
      "PYTHONPATH: C:\\Users\\saidk\\Data Analytics\\Datawarehouse\n",
      "SESSIONNAME: Console\n",
      "SYSTEMDRIVE: C:\n",
      "SYSTEMROOT: C:\\Windows\n",
      "TEMP: C:\\Users\\saidk\\AppData\\Local\\Temp\n",
      "TMP: C:\\Users\\saidk\\AppData\\Local\\Temp\n",
      "USERDOMAIN: SAID-KHALAF\n",
      "USERDOMAIN_ROAMINGPROFILE: SAID-KHALAF\n",
      "USERNAME: saidk\n",
      "USERPROFILE: C:\\Users\\saidk\n",
      "VBOX_MSI_INSTALL_PATH: C:\\Program Files\\Oracle\\VirtualBox\\\n",
      "WINDIR: C:\\Windows\n",
      "ZES_ENABLE_SYSMAN: 1\n",
      "PYDEVD_USE_FRAME_EVAL: NO\n",
      "JPY_SESSION_NAME: 00_0_CHECK_1_install.ipynb\n",
      "JPY_INTERRUPT_EVENT: 1536\n",
      "IPY_INTERRUPT_EVENT: 1536\n",
      "JPY_PARENT_PID: 1632\n",
      "TERM: xterm-color\n",
      "CLICOLOR: 1\n",
      "FORCE_COLOR: 1\n",
      "CLICOLOR_FORCE: 1\n",
      "PAGER: cat\n",
      "GIT_PAGER: cat\n",
      "MPLBACKEND: module://matplotlib_inline.backend_inline\n",
      "PYSPARK_PYTHON: python\n",
      "SPARK_HOME: C:\\tools\\bigdatatools\\spark-3.5.2-bin-hadoop3\n",
      "HADOOP_HOME: C:\\tools\\bigdatatools\\hadoop-3.4.0-win10-x64\n",
      "PYSPARK_HADOOP_VERSION: 3\n",
      "JAVA_HOME: C:\\Program Files\\Java\\jdk-17\\\n",
      "SPARK_AUTH_SOCKET_TIMEOUT: 15\n",
      "SPARK_BUFFER_SIZE: 65536\n"
     ]
    }
   ],
   "execution_count": 11
  },
  {
   "cell_type": "markdown",
   "source": [
    "### Step 3 : Configuring the sparkSession\n",
    "Possible error solutions:\n",
    "1. Make sure the imports in step 1 succeeded."
   ],
   "metadata": {
    "collapsed": false
   }
  },
  {
   "cell_type": "code",
   "source": [
    "builder = SparkSession.builder \\\n",
    "    .appName(\"InstallCheck\") \\\n",
    "    .config(\"spark.sql.extensions\", \"io.delta.sql.DeltaSparkSessionExtension\") \\\n",
    "    .config(\"spark.sql.catalog.spark_catalog\", \"org.apache.spark.sql.delta.catalog.DeltaCatalog\") \\\n",
    "    .config(\"spark.sql.shuffle.partitions\", \"4\") \\\n",
    "    .master(\"local[*]\")\n",
    "\n",
    "builder = configure_spark_with_delta_pip(builder)\n",
    "\n",
    "\n"
   ],
   "metadata": {
    "collapsed": false,
    "ExecuteTime": {
<<<<<<< HEAD
     "end_time": "2024-10-05T13:46:34.712910Z",
     "start_time": "2024-10-05T13:46:34.460594Z"
=======
     "end_time": "2024-10-05T11:28:25.600490Z",
     "start_time": "2024-10-05T11:28:25.573414Z"
>>>>>>> aae81819d776e09352dde843c9e9630e91018fdd
    }
   },
   "outputs": [],
   "execution_count": 12
  },
  {
   "cell_type": "markdown",
   "source": [
    "### Step 4  : Creating a local spark cluster\n",
    "This step starts the sparkSession. Because you are running a local cluster.\n",
    "If you already started a sparkSession with getOrCreate(), running this cell does not change the session. Restart the Jupyter server, and rerun all above cells again\n",
    "After running this step you will get the url (click on Spark UI) to the Spark server. Check if you can visit the URL\n",
    "\n",
    "Possible error solutions:\n",
    "\n",
    "1. Make sure the previous step was executed correctly\n",
    "2. Check your environment variables again with es.listEnvironment(). HADOOP_HOME, SPARK_HOME, JAVA_HOME and PATH have to be set correctly corresponding the instructions in README.MD. In most cases the error message will give you information on what went wrong.\n",
    "3. Read the error message. If you don't get a clear error message look at Jupyter console (View > Tool windows > Python Packages). The console will give information about the startup proces of the Spark-server\n",
    "4. In Windows, make sure your HADOOP_HOME has winutils.exe in the bin directory. If not see README.MD for clear instructions"
   ],
   "metadata": {
    "collapsed": false
   }
  },
  {
   "cell_type": "code",
   "source": [
    "spark = builder.getOrCreate()"
   ],
   "metadata": {
    "collapsed": false,
    "ExecuteTime": {
<<<<<<< HEAD
     "end_time": "2024-10-05T13:46:35.653504Z",
     "start_time": "2024-10-05T13:46:34.725446Z"
=======
     "end_time": "2024-10-05T11:29:03.472902Z",
     "start_time": "2024-10-05T11:28:35.550226Z"
>>>>>>> aae81819d776e09352dde843c9e9630e91018fdd
    }
   },
   "outputs": [],
   "execution_count": 13
  },
  {
   "cell_type": "code",
   "source": [
    "\n",
    "spark.getActiveSession()"
   ],
   "metadata": {
    "collapsed": false,
    "ExecuteTime": {
<<<<<<< HEAD
     "end_time": "2024-10-05T13:46:35.684288Z",
     "start_time": "2024-10-05T13:46:35.666758Z"
=======
     "end_time": "2024-10-05T11:30:20.562016Z",
     "start_time": "2024-10-05T11:30:20.512515Z"
>>>>>>> aae81819d776e09352dde843c9e9630e91018fdd
    }
   },
   "outputs": [
    {
     "data": {
      "text/plain": [
<<<<<<< HEAD
       "<pyspark.sql.session.SparkSession at 0x2477f695e90>"
=======
       "<pyspark.sql.session.SparkSession at 0x17fff941b50>"
>>>>>>> aae81819d776e09352dde843c9e9630e91018fdd
      ],
      "text/html": [
       "\n",
       "            <div>\n",
       "                <p><b>SparkSession - in-memory</b></p>\n",
       "                \n",
       "        <div>\n",
       "            <p><b>SparkContext</b></p>\n",
       "\n",
       "            <p><a href=\"http://host.docker.internal:4040\">Spark UI</a></p>\n",
       "\n",
       "            <dl>\n",
       "              <dt>Version</dt>\n",
       "                <dd><code>v3.5.2</code></dd>\n",
       "              <dt>Master</dt>\n",
       "                <dd><code>local[*]</code></dd>\n",
       "              <dt>AppName</dt>\n",
       "                <dd><code>InstallCheck</code></dd>\n",
       "            </dl>\n",
       "        </div>\n",
       "        \n",
       "            </div>\n",
       "        "
      ]
     },
<<<<<<< HEAD
     "execution_count": 14,
=======
     "execution_count": 6,
>>>>>>> aae81819d776e09352dde843c9e9630e91018fdd
     "metadata": {},
     "output_type": "execute_result"
    }
   ],
<<<<<<< HEAD
   "execution_count": 14
=======
   "execution_count": 6
>>>>>>> aae81819d776e09352dde843c9e9630e91018fdd
  },
  {
   "cell_type": "markdown",
   "source": [
    "### Step 5  : Reading source into Spark DataFrame\n",
    "\n",
    "Possible error solutions:\n",
    "1. Make sure the file is present in the project at [file_location]"
   ],
   "metadata": {
    "collapsed": false
   }
  },
  {
   "cell_type": "code",
   "source": [
    "# File location and type\n",
    "file_location = \"./FileStore/tables/shakespeare.txt\"\n",
    "file_type = \"text\"\n",
    "\n",
    "# The applied options are for CSV files. For other file types, these will be ignored.\n",
    "df = spark.read.format(file_type)  \\\n",
    "  .load(file_location)\n",
    "df.show()\n",
    "df.describe()"
   ],
   "metadata": {
    "collapsed": false,
    "ExecuteTime": {
<<<<<<< HEAD
     "end_time": "2024-10-05T13:46:35.838097Z",
     "start_time": "2024-10-05T13:46:35.709570Z"
=======
     "end_time": "2024-10-05T11:30:10.343519Z",
     "start_time": "2024-10-05T11:30:02.147136Z"
>>>>>>> aae81819d776e09352dde843c9e9630e91018fdd
    }
   },
   "outputs": [
    {
     "name": "stdout",
     "output_type": "stream",
     "text": [
      "+--------------------+\n",
      "|               value|\n",
      "+--------------------+\n",
      "|This is the 100th...|\n",
      "|is presented in c...|\n",
      "|Library of the Fu...|\n",
      "|often releases Et...|\n",
      "|                    |\n",
      "|         Shakespeare|\n",
      "|                    |\n",
      "|*This Etext has c...|\n",
      "|                    |\n",
      "|<<THIS ELECTRONIC...|\n",
      "|SHAKESPEARE IS CO...|\n",
      "|PROVIDED BY PROJE...|\n",
      "|WITH PERMISSION. ...|\n",
      "|DISTRIBUTED SO LO...|\n",
      "|PERSONAL USE ONLY...|\n",
      "|COMMERCIALLY.  PR...|\n",
      "|SERVICE THAT CHAR...|\n",
      "|                    |\n",
      "|*Project Gutenber...|\n",
      "|in the presentati...|\n",
      "+--------------------+\n",
      "only showing top 20 rows\n",
      "\n"
     ]
    },
    {
     "data": {
      "text/plain": [
       "DataFrame[summary: string, value: string]"
      ]
     },
<<<<<<< HEAD
     "execution_count": 15,
=======
     "execution_count": 5,
>>>>>>> aae81819d776e09352dde843c9e9630e91018fdd
     "metadata": {},
     "output_type": "execute_result"
    }
   ],
<<<<<<< HEAD
   "execution_count": 15
=======
   "execution_count": 5
>>>>>>> aae81819d776e09352dde843c9e9630e91018fdd
  },
  {
   "cell_type": "markdown",
   "source": [
    "### Step 7  : Creating a view on the source and performing SQL on View\n",
    "This step should not pose any problem if the previous steps where successful.\n"
   ],
   "metadata": {
    "collapsed": false
   }
  },
  {
   "cell_type": "code",
   "source": [
    "df.createOrReplaceTempView('lines')\n",
    "words = spark.sql('select explode(split(value, \" \")) from lines')\n",
    "words.createOrReplaceTempView('words')\n",
    "lowerwords = spark.sql('select lower(trim(col)) as word, count(*) as amount from words where lower(trim(col)) <> \"\" group by lower(trim(col)) order by amount desc limit 20')\n",
    "lowerwords.show()\n"
   ],
   "metadata": {
    "collapsed": false,
    "ExecuteTime": {
<<<<<<< HEAD
     "end_time": "2024-10-05T13:46:36.765893Z",
     "start_time": "2024-10-05T13:46:35.917101Z"
=======
     "end_time": "2024-10-05T11:30:32.792760Z",
     "start_time": "2024-10-05T11:30:29.023020Z"
>>>>>>> aae81819d776e09352dde843c9e9630e91018fdd
    }
   },
   "outputs": [
    {
     "name": "stdout",
     "output_type": "stream",
     "text": [
      "+----+------+\n",
      "|word|amount|\n",
      "+----+------+\n",
      "| the| 27549|\n",
      "| and| 26037|\n",
      "|   i| 19540|\n",
      "|  to| 18700|\n",
      "|  of| 18010|\n",
      "|   a| 14383|\n",
      "|  my| 12455|\n",
      "|  in| 10671|\n",
      "| you| 10630|\n",
      "|that| 10487|\n",
      "|  is|  9145|\n",
      "| for|  7982|\n",
      "|with|  7931|\n",
      "| not|  7643|\n",
      "|your|  6871|\n",
      "| his|  6749|\n",
      "|  be|  6700|\n",
      "| but|  5886|\n",
      "|  he|  5884|\n",
      "|  as|  5882|\n",
      "+----+------+\n",
      "\n"
     ]
    }
   ],
   "execution_count": 16
  },
  {
   "cell_type": "markdown",
   "source": [
    "### Step 8  : Saving the result as a Delta table\n",
    "After running this step you should have a directory spark-warehouse/shakespeareWords in your project directory. This directory contains the Delta table. Right click the root directory and click \"Reload all from disk\" to see the directory.\n",
    "\n",
    "Possible error solutions:\n",
    "1. Make sure the previous step was executed correctly\n",
    "2. Make sure delta-spark is installed correctly. If not, run the requirements.txt again.\n",
    "3. Make sure your project is not in a user directory with spaces in the name.\n",
    "4. Make sure you have the correct permissions to write to the project directory."
   ],
   "metadata": {
    "collapsed": false
   }
  },
  {
   "cell_type": "code",
   "source": [
    "# With this registered as a temp view, it will only be available to this particular notebook. If you'd like other users to be able to query this table, you can also create a table from the DataFrame.\n",
    "# Once saved, this table will persist across cluster restarts as well as allow various users across different notebooks to query this data.\n",
    "# To do so, choose your table name and uncomment the bottom line.\n",
    "lowerwords.describe()\n",
    "\n",
    "permanent_table_name = \"shakespeareWords\"\n",
    "\n",
    "lowerwords.write.format(\"delta\").mode(\"overwrite\").saveAsTable(permanent_table_name)"
   ],
   "metadata": {
    "collapsed": false,
    "ExecuteTime": {
<<<<<<< HEAD
     "end_time": "2024-10-05T13:46:40.669104Z",
     "start_time": "2024-10-05T13:46:36.840995Z"
=======
     "end_time": "2024-10-05T11:30:55.907088Z",
     "start_time": "2024-10-05T11:30:41.947610Z"
>>>>>>> aae81819d776e09352dde843c9e9630e91018fdd
    }
   },
   "outputs": [],
   "execution_count": 17
  },
  {
   "cell_type": "code",
   "source": "# spark.stop()",
   "metadata": {
    "collapsed": false,
    "ExecuteTime": {
<<<<<<< HEAD
     "end_time": "2024-10-05T13:46:40.693307Z",
     "start_time": "2024-10-05T13:46:40.688158Z"
=======
     "end_time": "2024-10-05T11:31:02.611899Z",
     "start_time": "2024-10-05T11:31:01.827538Z"
>>>>>>> aae81819d776e09352dde843c9e9630e91018fdd
    }
   },
   "outputs": [],
   "execution_count": 18
  },
  {
   "cell_type": "code",
   "source": [],
   "metadata": {
    "collapsed": false,
    "ExecuteTime": {
<<<<<<< HEAD
     "end_time": "2024-10-05T13:46:40.708658Z",
     "start_time": "2024-10-05T13:46:40.704952Z"
=======
     "end_time": "2024-09-16T22:29:38.046405Z",
     "start_time": "2024-09-16T22:29:38.039945Z"
>>>>>>> aae81819d776e09352dde843c9e9630e91018fdd
    }
   },
   "outputs": [],
   "execution_count": null
  }
 ],
 "metadata": {
  "kernelspec": {
   "display_name": "Python 3",
   "language": "python",
   "name": "python3"
  },
  "language_info": {
   "codemirror_mode": {
    "name": "ipython",
    "version": 2
   },
   "file_extension": ".py",
   "mimetype": "text/x-python",
   "name": "python",
   "nbconvert_exporter": "python",
   "pygments_lexer": "ipython2",
   "version": "2.7.6"
  }
 },
 "nbformat": 4,
 "nbformat_minor": 0
}
