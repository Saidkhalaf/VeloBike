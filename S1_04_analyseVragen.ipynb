{
 "cells": [
  {
   "cell_type": "code",
   "id": "initial_id",
   "metadata": {
    "collapsed": true,
    "ExecuteTime": {
     "end_time": "2024-11-03T16:55:46.551449Z",
     "start_time": "2024-11-03T16:55:46.539547Z"
    }
   },
   "source": [
    "import ConnectionConfig as cc\n",
    "cc.setupEnvironment()"
   ],
   "outputs": [],
   "execution_count": 29
  },
  {
   "metadata": {
    "ExecuteTime": {
     "end_time": "2024-11-03T16:55:46.666783Z",
     "start_time": "2024-11-03T16:55:46.627215Z"
    }
   },
   "cell_type": "code",
   "source": [
    "spark = cc.startLocalCluster(\"Analyzing\")  # default 4\n",
    "spark.getActiveSession()"
   ],
   "id": "19d086076c5426fd",
   "outputs": [
    {
     "data": {
      "text/plain": [
       "<pyspark.sql.session.SparkSession at 0x1f5bf7dd550>"
      ],
      "text/html": [
       "\n",
       "            <div>\n",
       "                <p><b>SparkSession - in-memory</b></p>\n",
       "                \n",
       "        <div>\n",
       "            <p><b>SparkContext</b></p>\n",
       "\n",
       "            <p><a href=\"http://host.docker.internal:4041\">Spark UI</a></p>\n",
       "\n",
       "            <dl>\n",
       "              <dt>Version</dt>\n",
       "                <dd><code>v3.5.2</code></dd>\n",
       "              <dt>Master</dt>\n",
       "                <dd><code>local[*]</code></dd>\n",
       "              <dt>AppName</dt>\n",
       "                <dd><code>Analyzing</code></dd>\n",
       "            </dl>\n",
       "        </div>\n",
       "        \n",
       "            </div>\n",
       "        "
      ]
     },
     "execution_count": 30,
     "metadata": {},
     "output_type": "execute_result"
    }
   ],
   "execution_count": 30
  },
  {
   "metadata": {
    "ExecuteTime": {
     "end_time": "2024-11-03T16:55:46.804099Z",
     "start_time": "2024-11-03T16:55:46.725166Z"
    }
   },
   "cell_type": "code",
   "source": [
    "#EXTRACT\n",
    "dim_weather = spark.read.format(\"delta\").load(\"spark-warehouse/dimWeather\")\n",
    "dim_date = spark.read.format(\"delta\").load(\"spark-warehouse/dimDate\")           \n",
    "fact_rides = spark.read.format(\"delta\").load(\"spark-warehouse/factRideS1\")"
   ],
   "id": "42f1a23e7af10001",
   "outputs": [],
   "execution_count": 31
  },
  {
   "metadata": {
    "ExecuteTime": {
     "end_time": "2024-11-03T16:55:46.860599Z",
     "start_time": "2024-11-03T16:55:46.829234Z"
    }
   },
   "cell_type": "code",
   "source": [
    "#TRANSFORM\n",
    "#TEMP VIEW MAKEN  \n",
    "dim_weather.createOrReplaceTempView(\"dimWeather\")\n",
    "dim_date.createOrReplaceTempView(\"dimDate\")\n",
    "fact_rides.createOrReplaceTempView(\"factRide\")"
   ],
   "id": "45a6c4bba885267a",
   "outputs": [],
   "execution_count": 32
  },
  {
   "metadata": {},
   "cell_type": "markdown",
   "source": [
    "## Wat zijn de drukke momenten (op dagbasis) in de week t.o.v. het weekend? \n",
    "\n",
    "Om de drukste momenten van de week te vergelijken met het weekend, kunnen we de gegevens per uur samenvoegen en groeperen op weekdag en weekend."
   ],
   "id": "cd5bf7066f3b0b8f"
  },
  {
   "metadata": {
    "ExecuteTime": {
     "end_time": "2024-11-03T16:55:51.247631Z",
     "start_time": "2024-11-03T16:55:46.880445Z"
    }
   },
   "cell_type": "code",
   "source": [
    "#Hier is de SQL-query om het gemiddelde aantal ritten per uur voor weekdagen en weekenden te berekenen:\n",
    "busiest_times_query = spark.sql(\"\"\"\n",
    "WITH ride_counts AS (\n",
    "    SELECT \n",
    "           CASE \n",
    "            WHEN date_format(dd.calendarDate, 'EEEE') IN ('Saturday', 'Sunday') THEN 'Weekend'\n",
    "            ELSE 'Weekday'\n",
    "           END as day_type,\n",
    "           COUNT(fr.rideSK) as ride_count\n",
    "    FROM factRide fr\n",
    "    LEFT JOIN dimDate dd ON fr.dateSK = dd.dateSK\n",
    "    GROUP BY day_type, dd.calendarDate\n",
    ")\n",
    "SELECT \n",
    "    day_type,\n",
    "    AVG(ride_count) as avg_ride_count\n",
    "FROM ride_counts\n",
    "GROUP BY day_type\n",
    "ORDER BY avg_ride_count DESC\n",
    "\"\"\")\n",
    "\n",
    "#Show the result\n",
    "df_busiest_times = busiest_times_query.show(10)\n",
    "\n",
    "# De avondspits (20:00u) is de drukste tijd, zowel weekdagen als in het weekend. In het weekend zijn er echter meer ritten."
   ],
   "id": "2e5b84b39afab3e7",
   "outputs": [
    {
     "name": "stdout",
     "output_type": "stream",
     "text": [
      "+--------+------------------+\n",
      "|day_type|    avg_ride_count|\n",
      "+--------+------------------+\n",
      "| Weekend|3499.0626506024096|\n",
      "| Weekday|3137.1277617675314|\n",
      "+--------+------------------+\n",
      "\n"
     ]
    }
   ],
   "execution_count": 33
  },
  {
   "metadata": {},
   "cell_type": "markdown",
   "source": "## Hebben datumparameters invloed op de afgelegde afstand?",
   "id": "a1e706b195063da3"
  },
  {
   "metadata": {},
   "cell_type": "markdown",
   "source": "Om te bepalen of datumparameters van invloed zijn op de afgelegde afstand, moeten we de relatie analyseren tussen verschillende datumkenmerken (zoals dag van de week, maand, seizoen) en de afgelegde afstand tijdens ritten.",
   "id": "329bdb58bd9491f5"
  },
  {
   "metadata": {
    "ExecuteTime": {
     "end_time": "2024-11-03T16:55:56.630475Z",
     "start_time": "2024-11-03T16:55:51.307658Z"
    }
   },
   "cell_type": "code",
   "source": [
    "## SQL query to analyze the impact of date parameters on ride distance (or duration in this case)\n",
    "distance_analysis_query = spark.sql(\"\"\"\n",
    "WITH detailed_rides AS (\n",
    "    SELECT \n",
    "        fr.rideSK,\n",
    "        fr.ride_duration,\n",
    "        dd.dateSK,\n",
    "        date_format(dd.calendarDate, 'EEEE') as day_of_week,\n",
    "        date_format(dd.calendarDate, 'MMMM') as month,\n",
    "        CASE\n",
    "          WHEN month(dd.calendarDate) IN (12, 1, 2) THEN 'Winter'\n",
    "          WHEN month(dd.calendarDate) IN (3, 4, 5) THEN 'Spring'\n",
    "          WHEN month(dd.calendarDate) IN (6, 7, 8) THEN 'Summer'\n",
    "          WHEN month(dd.calendarDate) IN (9, 10, 11) THEN 'Autumn'\n",
    "        END as season\n",
    "    FROM factRide fr\n",
    "    LEFT JOIN dimDate dd ON fr.dateSK = dd.dateSK\n",
    ")\n",
    "SELECT \n",
    "    day_of_week,\n",
    "    month,\n",
    "    season,\n",
    "    AVG(ride_duration) as avg_ride_duration\n",
    "FROM detailed_rides\n",
    "GROUP BY day_of_week, month, season\n",
    "ORDER BY avg_ride_duration DESC\n",
    "\"\"\")\n",
    "\n",
    "# Show the result\n",
    "df_distance_analysis = distance_analysis_query.show(10)\n",
    "\n",
    "#De gegevens geven aan dat ritten doorgaans langer duren in de herfstmaanden september en oktober en de zomermaand augustus. Dit suggereert dat datumparameters, met name specifieke maanden en seizoenen, wel degelijk invloed hebben op de afgelegde afstand."
   ],
   "id": "44f588a756eac6e",
   "outputs": [
    {
     "name": "stdout",
     "output_type": "stream",
     "text": [
      "+-----------+---------+------+-----------------+\n",
      "|day_of_week|    month|season|avg_ride_duration|\n",
      "+-----------+---------+------+-----------------+\n",
      "|   Saturday|September|Autumn|608.4465562810946|\n",
      "|  Wednesday|     July|Summer|604.3780098105066|\n",
      "|     Monday|September|Autumn|601.8979079497908|\n",
      "|    Tuesday|  October|Autumn| 601.441706186041|\n",
      "|     Friday|  October|Autumn| 600.796260396473|\n",
      "|   Thursday|September|Autumn|598.7352161355997|\n",
      "|    Tuesday|     June|Summer|598.7132004936556|\n",
      "|     Sunday|  October|Autumn|597.8110277412412|\n",
      "|     Sunday|September|Autumn|596.7837614391196|\n",
      "|    Tuesday| December|Winter|596.5815187431092|\n",
      "+-----------+---------+------+-----------------+\n",
      "only showing top 10 rows\n",
      "\n"
     ]
    }
   ],
   "execution_count": 34
  },
  {
   "metadata": {},
   "cell_type": "markdown",
   "source": "## Heeft weer invloed op ritten?",
   "id": "41a48abfdb8da54e"
  },
  {
   "metadata": {
    "ExecuteTime": {
     "end_time": "2024-11-03T16:55:58.860524Z",
     "start_time": "2024-11-03T16:55:56.712667Z"
    }
   },
   "cell_type": "code",
   "source": [
    "# SQL query to analyze the impact of weather on rides, filtering out negative durations\n",
    "weather_analysis_query = spark.sql(\"\"\"\n",
    "WITH weather_rides AS (\n",
    "    SELECT\n",
    "        fr.rideSK,\n",
    "        fr.ride_duration,\n",
    "        dw.temperature_condition,\n",
    "        dw.weather_condition\n",
    "    FROM factRide fr\n",
    "    JOIN dimWeather dw ON fr.weatherSK = dw.weatherSK\n",
    "    WHERE fr.ride_duration >= 0\n",
    ")\n",
    "SELECT\n",
    "    temperature_condition, \n",
    "    weather_condition, \n",
    "    COUNT(rideSK) AS rides_per_weather, \n",
    "    AVG(ride_duration) AS avg_duration_per_weather\n",
    "FROM weather_rides\n",
    "GROUP BY\n",
    "    temperature_condition, weather_condition\n",
    "ORDER BY avg_duration_per_weather DESC\n",
    "\"\"\")\n",
    "\n",
    "# Show the result\n",
    "df_weather_analysis = weather_analysis_query.show()\n",
    "\n",
    "#Ja weer heeft invloed op ritten, kijk naar avg_duration_per_weather bij Sunny is minder dan bij Cloudy en Rainy"
   ],
   "id": "e7d8b1de95af7e61",
   "outputs": [
    {
     "name": "stdout",
     "output_type": "stream",
     "text": [
      "+---------------------+-----------------+-----------------+------------------------+\n",
      "|temperature_condition|weather_condition|rides_per_weather|avg_duration_per_weather|\n",
      "+---------------------+-----------------+-----------------+------------------------+\n",
      "|         <15 and >-10|           Cloudy|           289645|       653.4118731550691|\n",
      "|                  <15|            Rainy|           282407|       649.3295916885913|\n",
      "|                 >=15|            Sunny|           297477|       644.5499416761631|\n",
      "|                  any|          unknown|          3848295|       579.7117931447564|\n",
      "+---------------------+-----------------+-----------------+------------------------+\n",
      "\n"
     ]
    }
   ],
   "execution_count": 35
  },
  {
   "metadata": {},
   "cell_type": "markdown",
   "source": "## Hoe varieert het aantal ritten op verschillende weekdagen en onder verschillende weersomstandigheden?",
   "id": "32fb83b315d8550c"
  },
  {
   "metadata": {
    "ExecuteTime": {
     "end_time": "2024-11-03T16:56:03.637041Z",
     "start_time": "2024-11-03T16:55:58.901891Z"
    }
   },
   "cell_type": "code",
   "source": [
    "# SQL query to analyze the number of rides across different weekdays under various weather conditions\n",
    "weekly_weather_ride_query = spark.sql(\"\"\"\n",
    "WITH rides_with_weather_date AS (\n",
    "    SELECT\n",
    "        fr.rideSK,\n",
    "        date_format(dd.calendarDate, 'EEEE') AS day_of_week, -- Extracting day of week\n",
    "        dw.weather_condition\n",
    "    FROM factRide fr\n",
    "    JOIN dimWeather dw ON fr.weatherSK = dw.weatherSK\n",
    "    JOIN dimDate dd ON fr.dateSK = dd.dateSK\n",
    ")\n",
    "SELECT\n",
    "    day_of_week,\n",
    "    weather_condition,\n",
    "    COUNT(rideSK) AS rides_per_day_weather\n",
    "FROM rides_with_weather_date\n",
    "GROUP BY\n",
    "    day_of_week, weather_condition\n",
    "ORDER BY day_of_week, rides_per_day_weather DESC\n",
    "\"\"\")\n",
    "\n",
    "# Show the result\n",
    "weekly_weather_ride_query.show()\n",
    "\n",
    "#Friday,Sunny,34242        Saturday, Sunny ,38515\n",
    "#Friday,Cloudy,32854        Saturday,Cloudy,37451\n",
    "#Friday,Rainy,31939         Saturday,Rainy,36399"
   ],
   "id": "bea5a81f39587815",
   "outputs": [
    {
     "name": "stdout",
     "output_type": "stream",
     "text": [
      "+-----------+-----------------+---------------------+\n",
      "|day_of_week|weather_condition|rides_per_day_weather|\n",
      "+-----------+-----------------+---------------------+\n",
      "|     Friday|          unknown|               387897|\n",
      "|     Friday|            Sunny|                34242|\n",
      "|     Friday|           Cloudy|                32854|\n",
      "|     Friday|            Rainy|                31939|\n",
      "|     Monday|          unknown|               665385|\n",
      "|     Monday|            Sunny|                49533|\n",
      "|     Monday|           Cloudy|                48124|\n",
      "|     Monday|            Rainy|                47266|\n",
      "|   Saturday|          unknown|               504048|\n",
      "|   Saturday|            Sunny|                38515|\n",
      "|   Saturday|           Cloudy|                37451|\n",
      "|   Saturday|            Rainy|                36399|\n",
      "|     Sunday|          unknown|               689895|\n",
      "|     Sunday|            Sunny|                49630|\n",
      "|     Sunday|           Cloudy|                48738|\n",
      "|     Sunday|            Rainy|                47435|\n",
      "|   Thursday|          unknown|               393278|\n",
      "|   Thursday|            Sunny|                34115|\n",
      "|   Thursday|           Cloudy|                32892|\n",
      "|   Thursday|            Rainy|                31837|\n",
      "+-----------+-----------------+---------------------+\n",
      "only showing top 20 rows\n",
      "\n"
     ]
    }
   ],
   "execution_count": 36
  },
  {
   "metadata": {},
   "cell_type": "markdown",
   "source": "## Hoe is de verdeling van ritten die onder verschillende weersomstandigheden zijn gestart?",
   "id": "a8d3574a7564da13"
  },
  {
   "metadata": {
    "ExecuteTime": {
     "end_time": "2024-11-03T16:56:05.410746Z",
     "start_time": "2024-11-03T16:56:03.661385Z"
    }
   },
   "cell_type": "code",
   "source": [
    "# SQL query to analyze the distribution of rides started at different times of the day under various weather conditions\n",
    "rides_time_of_day_weather_query = spark.sql(\"\"\"\n",
    "WITH rides_with_weather_time AS (\n",
    "    SELECT\n",
    "        fr.rideSK,\n",
    "        dw.weather_condition\n",
    "    FROM factRide fr\n",
    "    JOIN dimWeather dw ON fr.weatherSK = dw.weatherSK\n",
    "    WHERE fr.ride_duration >= 0\n",
    ")\n",
    "SELECT\n",
    "    weather_condition,\n",
    "    COUNT(rideSK) AS rides_per_hour_weather\n",
    "FROM rides_with_weather_time\n",
    "GROUP BY weather_condition\n",
    "ORDER BY rides_per_hour_weather DESC\n",
    "\"\"\")\n",
    "\n",
    "# Show the result\n",
    "rides_time_of_day_weather_query.show(50)"
   ],
   "id": "aa22482b42f20d9e",
   "outputs": [
    {
     "name": "stdout",
     "output_type": "stream",
     "text": [
      "+-----------------+----------------------+\n",
      "|weather_condition|rides_per_hour_weather|\n",
      "+-----------------+----------------------+\n",
      "|          unknown|               3848295|\n",
      "|            Sunny|                297477|\n",
      "|           Cloudy|                289645|\n",
      "|            Rainy|                282407|\n",
      "+-----------------+----------------------+\n",
      "\n"
     ]
    }
   ],
   "execution_count": 37
  }
 ],
 "metadata": {
  "kernelspec": {
   "display_name": "Python 3",
   "language": "python",
   "name": "python3"
  },
  "language_info": {
   "codemirror_mode": {
    "name": "ipython",
    "version": 2
   },
   "file_extension": ".py",
   "mimetype": "text/x-python",
   "name": "python",
   "nbconvert_exporter": "python",
   "pygments_lexer": "ipython2",
   "version": "2.7.6"
  }
 },
 "nbformat": 4,
 "nbformat_minor": 5
}
