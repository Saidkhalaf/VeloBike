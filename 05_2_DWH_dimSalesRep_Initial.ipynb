{
 "cells": [
  {
   "cell_type": "markdown",
   "source": [
    "### Config stuff"
   ],
   "metadata": {
    "collapsed": false
   }
  },
  {
   "cell_type": "code",
   "source": [
    "import random\n",
    "import pyspark\n",
    "from pyspark.sql import SparkSession, functions\n",
    "import ConnectionConfig as cc\n",
    "from pyspark.sql.functions import *\n",
    "cc.setupEnvironment()\n",
    "cc.listEnvironment()"
   ],
   "metadata": {
    "collapsed": false,
    "ExecuteTime": {
     "end_time": "2024-10-05T19:12:38.476868Z",
     "start_time": "2024-10-05T19:12:38.466045Z"
    }
   },
   "outputs": [
    {
     "name": "stdout",
     "output_type": "stream",
     "text": [
      "ALLUSERSPROFILE: C:\\ProgramData\n",
      "APPDATA: C:\\Users\\saidk\\AppData\\Roaming\n",
      "ASL.LOG: Destination=file\n",
      "COMMONPROGRAMFILES: C:\\Program Files\\Common Files\n",
      "COMMONPROGRAMFILES(X86): C:\\Program Files (x86)\\Common Files\n",
      "COMMONPROGRAMW6432: C:\\Program Files\\Common Files\n",
      "COMPUTERNAME: SAID-KHALAF\n",
      "COMSPEC: C:\\Windows\\system32\\cmd.exe\n",
      "DRIVERDATA: C:\\Windows\\System32\\Drivers\\DriverData\n",
      "EFC_7508: 1\n",
      "FPS_BROWSER_APP_PROFILE_STRING: Internet Explorer\n",
      "FPS_BROWSER_USER_PROFILE_STRING: Default\n",
      "HOMEDRIVE: C:\n",
      "HOMEPATH: \\Users\\saidk\n",
      "IGCCSVC_DB: AQAAANCMnd8BFdERjHoAwE/Cl+sBAAAAyWHQQ0UE1EybUO2X28QUdAQAAAACAAAAAAAQZgAAAAEAACAAAACnQfPzRgQfLDsFfSA8yUOlGDgWhclc8+UiXNzfZ6vyfQAAAAAOgAAAAAIAACAAAACmsL61oyMd90tFxJ2o07U7jFSVs8QBAEYbW8GGxh0lQGAAAADZW7PuVVN1xrB8XMybUg4VuohhEvg2y7EtyRkL0ixCJEWB6mIJ63wAZJ1d56BcTP5ivzGYlSMvrOPEJ46RadHt7Ga+sTruwrK7noPoYjO4Pe2H8VmOQKVitCxiLxrnKqtAAAAAXUJVbtr76zut+OVP458xzpZXR4dNPMe+X/u1GgtWk+juReuOTvOYyxZJqJZK0PoXS+58slyVeh91UC/+DZONBw==\n",
      "INTELLIJ IDEA: C:\\Program Files\\JetBrains\\IntelliJ IDEA 2023.1.2\\bin;\n",
      "IPY_INTERRUPT_EVENT: 2384\n",
      "JPY_INTERRUPT_EVENT: 2384\n",
      "JPY_PARENT_PID: 2360\n",
      "JPY_SESSION_NAME: 05_2_DWH_dimSalesRep_Initial.ipynb\n",
      "LANG: en_US.UTF-8\n",
      "LANGUAGE: \n",
      "LC_ALL: en_US.UTF-8\n",
      "LOCALAPPDATA: C:\\Users\\saidk\\AppData\\Local\n",
      "LOGONSERVER: \\\\SAID-KHALAF\n",
      "NUMBER_OF_PROCESSORS: 20\n",
      "ONEDRIVE: C:\\Users\\saidk\\OneDrive - KdG\n",
      "ONEDRIVECOMMERCIAL: C:\\Users\\saidk\\OneDrive - KdG\n",
      "OS: Windows_NT\n",
      "PATH: C:\\Users\\saidk\\Data Analytics\\Datawarehouse\\venv\\Scripts;C:\\Program Files\\Common Files\\Oracle\\Java\\javapath;C:\\Program Files (x86)\\Common Files\\Oracle\\Java\\java8path;C:\\Program Files (x86)\\Common Files\\Oracle\\Java\\javapath;C:\\Windows\\system32;C:\\Windows;C:\\Windows\\System32\\Wbem;C:\\Windows\\System32\\WindowsPowerShell\\v1.0\\;C:\\Windows\\System32\\OpenSSH\\;C:\\Program Files\\dotnet\\;C:\\Program Files\\PuTTY\\;C:\\Program Files\\Graphviz\\bin;C:\\Program Files\\Graphviz\\bin;C:\\Program Files\\nodejs\\;C:\\Program Files\\Docker\\Docker\\resources\\bin;C:\\Program Files\\Git\\cmd;C:\\Users\\saidk\\AppData\\Local\\Programs\\Python\\Python311\\Scripts\\;C:\\Users\\saidk\\AppData\\Local\\Programs\\Python\\Python311\\;C:\\Users\\saidk\\AppData\\Local\\Programs\\Python\\Launcher\\;C:\\Users\\saidk\\AppData\\Local\\Microsoft\\WindowsApps;;C:\\Users\\saidk\\AppData\\Local\\Programs\\Microsoft VS Code\\bin;C:\\Program Files\\JetBrains\\IntelliJ IDEA 2023.1.2\\bin;;C:\\Users\\saidk\\.dotnet\\tools;C:\\Users\\saidk\\AppData\\Roaming\\npm;C:\\tools\\bigdatatools\\spark-3.5.2-bin-hadoop3\\bin;C:\\tools\\bigdatatools\\hadoop-3.4.0-win10-x64\\bin;C:\\Program Files\\Java\\jdk-17\\bin;C:\\tools\\bigdatatools\\spark-3.5.2-bin-hadoop3\\bin;C:\\tools\\bigdatatools\\hadoop-3.4.0-win10-x64\\bin;C:\\Program Files\\Java\\jdk-17\\bin;C:\\tools\\bigdatatools\\spark-3.5.2-bin-hadoop3\\bin;C:\\tools\\bigdatatools\\hadoop-3.4.0-win10-x64\\bin;C:\\Program Files\\Java\\jdk-17\\bin;C:\\tools\\bigdatatools\\spark-3.5.2-bin-hadoop3\\bin;C:\\tools\\bigdatatools\\hadoop-3.4.0-win10-x64\\bin;C:\\Program Files\\Java\\jdk-17\\bin\n",
      "PATHEXT: .COM;.EXE;.BAT;.CMD;.VBS;.VBE;.JS;.JSE;.WSF;.WSH;.MSC\n",
      "PROCESSOR_ARCHITECTURE: AMD64\n",
      "PROCESSOR_IDENTIFIER: Intel64 Family 6 Model 186 Stepping 2, GenuineIntel\n",
      "PROCESSOR_LEVEL: 6\n",
      "PROCESSOR_REVISION: ba02\n",
      "PROGRAMDATA: C:\\ProgramData\n",
      "PROGRAMFILES: C:\\Program Files\n",
      "PROGRAMFILES(X86): C:\\Program Files (x86)\n",
      "PROGRAMW6432: C:\\Program Files\n",
      "PROMPT: (venv) $P$G\n",
      "PSMODULEPATH: C:\\Program Files\\WindowsPowerShell\\Modules;C:\\Windows\\system32\\WindowsPowerShell\\v1.0\\Modules\n",
      "PT8HOME: C:\\Program Files\\Cisco Packet Tracer 8.2.1\n",
      "PUBLIC: C:\\Users\\Public\n",
      "PYTHONPATH: C:\\Users\\saidk\\Data Analytics\\Datawarehouse\n",
      "SESSIONNAME: Console\n",
      "SYSTEMDRIVE: C:\n",
      "SYSTEMROOT: C:\\Windows\n",
      "TEMP: C:\\Users\\saidk\\AppData\\Local\\Temp\n",
      "TMP: C:\\Users\\saidk\\AppData\\Local\\Temp\n",
      "USERDOMAIN: SAID-KHALAF\n",
      "USERDOMAIN_ROAMINGPROFILE: SAID-KHALAF\n",
      "USERNAME: saidk\n",
      "USERPROFILE: C:\\Users\\saidk\n",
      "VBOX_MSI_INSTALL_PATH: C:\\Program Files\\Oracle\\VirtualBox\\\n",
      "VIRTUAL_ENV: C:\\Users\\saidk\\Data Analytics\\Datawarehouse\\venv\n",
      "WINDIR: C:\\Windows\n",
      "ZES_ENABLE_SYSMAN: 1\n",
      "_OLD_VIRTUAL_PATH: C:\\Program Files\\Common Files\\Oracle\\Java\\javapath;C:\\Program Files (x86)\\Common Files\\Oracle\\Java\\java8path;C:\\Program Files (x86)\\Common Files\\Oracle\\Java\\javapath;C:\\Windows\\system32;C:\\Windows;C:\\Windows\\System32\\Wbem;C:\\Windows\\System32\\WindowsPowerShell\\v1.0\\;C:\\Windows\\System32\\OpenSSH\\;C:\\Program Files\\dotnet\\;C:\\Program Files\\PuTTY\\;C:\\Program Files\\Graphviz\\bin;C:\\Program Files\\Graphviz\\bin;C:\\Program Files\\nodejs\\;C:\\Program Files\\Docker\\Docker\\resources\\bin;C:\\Program Files\\Git\\cmd;C:\\Users\\saidk\\AppData\\Local\\Programs\\Python\\Python311\\Scripts\\;C:\\Users\\saidk\\AppData\\Local\\Programs\\Python\\Python311\\;C:\\Users\\saidk\\AppData\\Local\\Programs\\Python\\Launcher\\;C:\\Users\\saidk\\AppData\\Local\\Microsoft\\WindowsApps;;C:\\Users\\saidk\\AppData\\Local\\Programs\\Microsoft VS Code\\bin;C:\\Program Files\\JetBrains\\IntelliJ IDEA 2023.1.2\\bin;;C:\\Users\\saidk\\.dotnet\\tools;C:\\Users\\saidk\\AppData\\Roaming\\npm\n",
      "_OLD_VIRTUAL_PROMPT: $P$G\n",
      "__COMPAT_LAYER: DetectorsAppHealth\n",
      "PYDEVD_USE_FRAME_EVAL: NO\n",
      "TERM: xterm-color\n",
      "CLICOLOR: 1\n",
      "FORCE_COLOR: 1\n",
      "CLICOLOR_FORCE: 1\n",
      "PAGER: cat\n",
      "GIT_PAGER: cat\n",
      "MPLBACKEND: module://matplotlib_inline.backend_inline\n",
      "PYSPARK_PYTHON: python\n",
      "SPARK_HOME: C:\\tools\\bigdatatools\\spark-3.5.2-bin-hadoop3\n",
      "HADOOP_HOME: C:\\tools\\bigdatatools\\hadoop-3.4.0-win10-x64\n",
      "PYSPARK_HADOOP_VERSION: 3\n",
      "JAVA_HOME: C:\\Program Files\\Java\\jdk-17\\\n",
      "SPARK_AUTH_SOCKET_TIMEOUT: 15\n",
      "SPARK_BUFFER_SIZE: 65536\n"
     ]
    }
   ],
   "execution_count": 15
  },
  {
   "cell_type": "code",
   "source": [
    "spark = cc.startLocalCluster(\"dimSalesRepInit\")\n",
    "spark.getActiveSession()\n"
   ],
   "metadata": {
    "collapsed": false,
    "ExecuteTime": {
     "end_time": "2024-10-05T19:12:43.643157Z",
     "start_time": "2024-10-05T19:12:38.493297Z"
    }
   },
   "outputs": [
    {
     "data": {
      "text/plain": [
       "<pyspark.sql.session.SparkSession at 0x1ab630af490>"
      ],
      "text/html": [
       "\n",
       "            <div>\n",
       "                <p><b>SparkSession - in-memory</b></p>\n",
       "                \n",
       "        <div>\n",
       "            <p><b>SparkContext</b></p>\n",
       "\n",
       "            <p><a href=\"http://host.docker.internal:4046\">Spark UI</a></p>\n",
       "\n",
       "            <dl>\n",
       "              <dt>Version</dt>\n",
       "                <dd><code>v3.5.2</code></dd>\n",
       "              <dt>Master</dt>\n",
       "                <dd><code>local[*]</code></dd>\n",
       "              <dt>AppName</dt>\n",
       "                <dd><code>dimSalesRepInit</code></dd>\n",
       "            </dl>\n",
       "        </div>\n",
       "        \n",
       "            </div>\n",
       "        "
      ]
     },
     "execution_count": 16,
     "metadata": {},
     "output_type": "execute_result"
    }
   ],
   "execution_count": 16
  },
  {
   "cell_type": "markdown",
   "source": [
    "# Initial load\n",
    "We will create a slowly changing dimension type 2 called dimSalesRep based on a sourceTable in our operational database called dbo.salesrep. SCD2  tables demand extra care and  because we will store hirstorical values of the dimension with the help of ranges.\n",
    "This notebook will create the table and fill it with the initial data. A second notebook will be used for increments of new and changed data.\n",
    "\n",
    "This is an example of the expected output (salesRepSK is different\n",
    "```\n",
    "+----------+-------------+-------------+-----------+-------------------+-------------------+--------------------+-------+\n",
    "|salesRepID|         name|       office| salesRepSK|          scd_start|            scd_end|                 md5|current|\n",
    "+----------+-------------+-------------+-----------+-------------------+-------------------+--------------------+-------+\n",
    "|a46add1...|      Z. Jane|     New York|          0|1990-01-01 00:00:00|2100-12-12 00:00:00|303db545462092a92...|   true|\n",
    "|s1fedf1...|   P. Chapman|       Berlin|          1|1990-01-01 00:00:00|2100-12-12 00:00:00|14b094c31bf9e4149...|   true|\n",
    "|d5e6f77...|     T. Crane|     New York|          2|1990-01-01 00:00:00|2100-12-12 00:00:00|6c062f95defda9dc3...|   true|\n",
    "```\n",
    "\n",
    "\n"
   ],
   "metadata": {
    "collapsed": false
   }
  },
  {
   "cell_type": "code",
   "source": [
    "cc.set_connectionProfile(\"tutorial_op\")\n",
    "\n",
    "df_operational_sales_rep = spark.read \\\n",
    "    .format(\"jdbc\") \\\n",
    "    .option(\"driver\" , cc.get_Property(\"driver\")) \\\n",
    "    .option(\"url\", cc.create_jdbc()) \\\n",
    "    .option(\"dbtable\", \"salesrep\") \\\n",
    "    .option(\"user\", cc.get_Property(\"username\")) \\\n",
    "    .option(\"password\", cc.get_Property(\"password\")) \\\n",
    "    .option(\"partitionColumn\", \"salesRepID\") \\\n",
    "    .option(\"numPartitions\", 4) \\\n",
    "    .option(\"lowerBound\", 0) \\\n",
    "    .option(\"upperBound\", 20) \\\n",
    "    .load()\n",
    "\n",
    "#Method 1 : Use the DataFrame API\n",
    "#df_dim_sales_rep = df_sales_rep.withColumn(\"salesRepSK\", expr(\"uuid()\")) \\\n",
    "#    .withColumn(\"scd_start\", lit(\"1990-01-01\").cast(\"timestamp\")) \\\n",
    "#    .withColumn(\"scd_end\", lit(\"2100-12-12\").cast(\"timestamp\")) \\\n",
    "#    .withColumn(\"md5\", md5(concat( col('name'), col('office')))) \\\n",
    "#    .withColumn(\"current\", lit(True))\n",
    "\n",
    "#Method 2 : Use SQL\n",
    "df_operational_sales_rep.createOrReplaceTempView(\"dimSalesRep\")\n",
    "df_dim_sales_rep = spark.sql(\"select uuid() as salesRepSK, *, to_timestamp('1999-01-01','yyyy-MM-dd') as scd_start, to_timestamp('2100-12-12','yyyy-MM-dd') as scd_end, md5(concat( name, office)) as md5, True as current  from dimSalesRep\")\n",
    "\n",
    "df_dim_sales_rep.printSchema()\n",
    "df_dim_sales_rep.show()\n",
    "\n",
    "# Define the path to save the Delta table\n",
    "delta_salesrep_table_path = \"./spark-warehouse/dimSalesRep\"\n",
    "\n",
    "# Save df_dim_sales_rep DataFrame as a Delta table\n",
    "df_dim_sales_rep.write.format(\"delta\").mode(\"overwrite\").save(delta_salesrep_table_path)\n",
    "\n",
    "#spark.sql(\"ALTER TABLE dimSalesRep  ADD columns (salesRepSK long GENERATED ALWAYS AS IDENTITY (START WITH 0 INCREMENT BY 1)\")"
   ],
   "metadata": {
    "collapsed": false,
    "ExecuteTime": {
     "end_time": "2024-10-05T19:12:44.548799Z",
     "start_time": "2024-10-05T19:12:43.652601Z"
    }
   },
   "outputs": [
    {
     "name": "stdout",
     "output_type": "stream",
     "text": [
      "root\n",
      " |-- salesRepSK: string (nullable = false)\n",
      " |-- salesrepid: integer (nullable = true)\n",
      " |-- name: string (nullable = true)\n",
      " |-- office: string (nullable = true)\n",
      " |-- scd_start: timestamp (nullable = true)\n",
      " |-- scd_end: timestamp (nullable = true)\n",
      " |-- md5: string (nullable = true)\n",
      " |-- current: boolean (nullable = false)\n",
      "\n",
      "+--------------------+----------+-------------+-------------+-------------------+-------------------+--------------------+-------+\n",
      "|          salesRepSK|salesrepid|         name|       office|          scd_start|            scd_end|                 md5|current|\n",
      "+--------------------+----------+-------------+-------------+-------------------+-------------------+--------------------+-------+\n",
      "|66a4faaf-1655-4bb...|         1|      R. Zane|       Berlin|1999-01-01 00:00:00|2100-12-12 00:00:00|1f8cbbc272a33dcc1...|   true|\n",
      "|67f698be-a1e7-46f...|         2|   P. Chapman|       Berlin|1999-01-01 00:00:00|2100-12-12 00:00:00|14b094c31bf9e4149...|   true|\n",
      "|daedb4af-6a2c-4a0...|         3|     F. Crane|     New York|1999-01-01 00:00:00|2100-12-12 00:00:00|0715f05df18a3a794...|   true|\n",
      "|92c0a4bf-79c3-4d9...|         4|    R. Geller|     New York|1999-01-01 00:00:00|2100-12-12 00:00:00|6212c0ce01f144d66...|   true|\n",
      "|b455c302-a6a3-422...|         5|     T. Mosby|       Berlin|1999-01-01 00:00:00|2100-12-12 00:00:00|947579dec8084039e...|   true|\n",
      "|eca97b20-b03f-49f...|         6|   H. Simpson|       Berlin|1999-01-01 00:00:00|2100-12-12 00:00:00|d636d1b0685650b34...|   true|\n",
      "|730ca53e-c834-4f8...|         7|   B. Stinson|San Fransisco|1999-01-01 00:00:00|2100-12-12 00:00:00|e726b2d8dc0cf9a6f...|   true|\n",
      "|58c5b6a5-5e4b-453...|         8|L. Hofstadter|     Brussels|1999-01-01 00:00:00|2100-12-12 00:00:00|a2bbe52f8274b0f08...|   true|\n",
      "|05fa8192-f2e8-4a4...|         9|    S. Cooper|     Brussels|1999-01-01 00:00:00|2100-12-12 00:00:00|d85c73c9d03df0002...|   true|\n",
      "|9c306334-d80c-4a1...|        10| F. Underwood|     Brussels|1999-01-01 00:00:00|2100-12-12 00:00:00|44cd1a6d596b05688...|   true|\n",
      "|67687c78-05d2-41c...|        11|     W. White|     New York|1999-01-01 00:00:00|2100-12-12 00:00:00|f9ea69ce2aa4482b4...|   true|\n",
      "|76e529e0-3916-4c4...|        12| T. Lannister|     New York|1999-01-01 00:00:00|2100-12-12 00:00:00|3259a471f9816d7c3...|   true|\n",
      "|711139da-9319-48d...|        13|      M. Ross|       London|1999-01-01 00:00:00|2100-12-12 00:00:00|d0faf94c1bbe2d4a7...|   true|\n",
      "+--------------------+----------+-------------+-------------+-------------------+-------------------+--------------------+-------+\n",
      "\n"
     ]
    }
   ],
   "execution_count": 17
  },
  {
   "cell_type": "markdown",
   "source": [
    "* The function lit() is used when you want a fixed column value for every row. In this case scd_start, scd_end and current.\n",
    "* The function md5() performs a md5-hash function on the preferred columns. This is needed to detect scd2 changes. When one of the included columns changes, the md5-hash will change. Include all SCD2 columns in the md5-hash function."
   ],
   "metadata": {
    "collapsed": false
   }
  },
  {
   "cell_type": "markdown",
   "source": [
    "## Delete the spark session"
   ],
   "metadata": {
    "collapsed": false
   }
  },
  {
   "cell_type": "code",
   "source": [
    "spark.stop()"
   ],
   "metadata": {
    "collapsed": false,
    "ExecuteTime": {
     "end_time": "2024-10-05T19:12:44.613042Z",
     "start_time": "2024-10-05T19:12:44.559539Z"
    }
   },
   "outputs": [],
   "execution_count": 18
  },
  {
   "cell_type": "code",
   "source": [],
   "metadata": {
    "collapsed": false,
    "ExecuteTime": {
     "end_time": "2024-10-05T19:12:44.624057Z",
     "start_time": "2024-10-05T19:12:44.621730Z"
    }
   },
   "outputs": [],
   "execution_count": null
  }
 ],
 "metadata": {
  "kernelspec": {
   "display_name": "Python 3",
   "language": "python",
   "name": "python3"
  },
  "language_info": {
   "codemirror_mode": {
    "name": "ipython",
    "version": 2
   },
   "file_extension": ".py",
   "mimetype": "text/x-python",
   "name": "python",
   "nbconvert_exporter": "python",
   "pygments_lexer": "ipython2",
   "version": "2.7.6"
  }
 },
 "nbformat": 4,
 "nbformat_minor": 0
}
