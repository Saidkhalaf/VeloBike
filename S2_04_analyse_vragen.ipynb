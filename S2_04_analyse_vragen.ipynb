{
 "cells": [
  {
   "metadata": {
    "ExecuteTime": {
     "end_time": "2024-11-03T16:28:15.673667Z",
     "start_time": "2024-11-03T16:28:15.598835Z"
    }
   },
   "cell_type": "code",
   "source": [
    "from pyspark.sql import SparkSession\n",
    "from delta import configure_spark_with_delta_pip\n",
    "import ConnectionConfig as cc\n",
    "cc.setupEnvironment()"
   ],
   "id": "553321309d73dadb",
   "outputs": [],
   "execution_count": 9
  },
  {
   "metadata": {
    "ExecuteTime": {
     "end_time": "2024-11-03T16:28:17.123495Z",
     "start_time": "2024-11-03T16:28:15.684208Z"
    }
   },
   "cell_type": "code",
   "source": [
    "spark = cc.startLocalCluster(\"Analyzing\") # default 4\n",
    "spark.getActiveSession()"
   ],
   "id": "fb97e2ca8a8f4a56",
   "outputs": [
    {
     "data": {
      "text/plain": [
       "<pyspark.sql.session.SparkSession at 0x1bafef9d250>"
      ],
      "text/html": [
       "\n",
       "            <div>\n",
       "                <p><b>SparkSession - in-memory</b></p>\n",
       "                \n",
       "        <div>\n",
       "            <p><b>SparkContext</b></p>\n",
       "\n",
       "            <p><a href=\"http://host.docker.internal:4041\">Spark UI</a></p>\n",
       "\n",
       "            <dl>\n",
       "              <dt>Version</dt>\n",
       "                <dd><code>v3.5.2</code></dd>\n",
       "              <dt>Master</dt>\n",
       "                <dd><code>local[*]</code></dd>\n",
       "              <dt>AppName</dt>\n",
       "                <dd><code>Analyzing</code></dd>\n",
       "            </dl>\n",
       "        </div>\n",
       "        \n",
       "            </div>\n",
       "        "
      ]
     },
     "execution_count": 10,
     "metadata": {},
     "output_type": "execute_result"
    }
   ],
   "execution_count": 10
  },
  {
   "metadata": {
    "collapsed": false,
    "ExecuteTime": {
     "end_time": "2024-11-03T16:28:19.724301Z",
     "start_time": "2024-11-03T16:28:17.154978Z"
    }
   },
   "cell_type": "code",
   "source": [
    "#EXTRACT\n",
    "dim_customer = spark.read.format(\"delta\").load(\"spark-warehouse/dimCustomer\")\n",
    "dim_locks = spark.read.format(\"delta\").load(\"spark-warehouse/dimLocks\")           \n",
    "fact_rides = spark.read.format(\"delta\").load(\"spark-warehouse/factRidesS2\")"
   ],
   "id": "7632fdea422c8235",
   "outputs": [],
   "execution_count": 11
  },
  {
   "cell_type": "code",
   "source": [
    "#TRANSFORM\n",
    "#TEMP VIEW MAKEN  \n",
    "dim_customer.createOrReplaceTempView(\"dimCustomer\")\n",
    "dim_locks.createOrReplaceTempView(\"dimLocks\")\n",
    "fact_rides.createOrReplaceTempView(\"factRides\")"
   ],
   "metadata": {
    "collapsed": false,
    "ExecuteTime": {
     "end_time": "2024-11-03T16:28:19.801158Z",
     "start_time": "2024-11-03T16:28:19.751503Z"
    }
   },
   "id": "edea68ea97e7e583",
   "outputs": [],
   "execution_count": 12
  },
  {
   "cell_type": "markdown",
   "source": [
    "## Wat is de invloed van de woonplaats van de gebruikers op het gebruik van de vehicles?"
   ],
   "metadata": {
    "collapsed": false
   },
   "id": "8b4dc46ffea31f8a"
  },
  {
   "metadata": {},
   "cell_type": "markdown",
   "source": [
    "We kunnen deze vraag beantwoorden door te kijken naar het aantal ritten en de gemiddelde ritafstand, gegroepeerd per woonplaats (stad) van de gebruikers. Dit geeft inzicht in welke steden meer gebruik maken van de fietsen en of de afstanden verschillen per locatie.\n",
    "\n"
   ],
   "id": "2700c6d099607b28"
  },
  {
   "cell_type": "code",
   "source": [
    "influence_residence = spark.sql(\"\"\"\n",
    "SELECT \n",
    "    dc.city AS woonplaats,\n",
    "    COUNT(fr.rideId) AS totaal_aantal_ritten,\n",
    "    AVG(fr.rideDistance) AS gemiddelde_ritafstand,\n",
    "    COUNT(DISTINCT fr.customerSK) AS unieke_gebruikers,\n",
    "    COUNT(fr.rideId) / COUNT(DISTINCT fr.customerSK) AS ritten_per_gebruiker\n",
    "FROM \n",
    "    factRides AS fr\n",
    "JOIN \n",
    "    dimCustomer AS dc ON fr.customerSK = dc.customer_SK\n",
    "GROUP BY \n",
    "    dc.city\n",
    "ORDER BY \n",
    "    totaal_aantal_ritten DESC;\n",
    "\n",
    "     \"\"\")\n",
    "\n",
    "influence_residence.show()\n"
   ],
   "metadata": {
    "collapsed": false,
    "ExecuteTime": {
     "end_time": "2024-11-03T16:28:28.707211Z",
     "start_time": "2024-11-03T16:28:19.824028Z"
    }
   },
   "id": "ad95984a77215d24",
   "outputs": [
    {
     "name": "stdout",
     "output_type": "stream",
     "text": [
      "+--------------------+--------------------+---------------------+-----------------+--------------------+\n",
      "|          woonplaats|totaal_aantal_ritten|gemiddelde_ritafstand|unieke_gebruikers|ritten_per_gebruiker|\n",
      "+--------------------+--------------------+---------------------+-----------------+--------------------+\n",
      "|           Antwerpen|              724938| 2.585581393161493...|             8978|   80.74604588995322|\n",
      "|Beveren-Waas/Haas...|              179879| 2.782246337415048...|             2218|   81.09963931469792|\n",
      "|             Schoten|              177412| 2.779640726644457...|             2168|   81.83210332103322|\n",
      "| Wilrijk (Antwerpen)|              164747| 3.180984006358998...|             2032|   81.07627952755905|\n",
      "|  Deurne (Antwerpen)|              152051| 2.975576149627153...|             1834|   82.90676117775354|\n",
      "|          Brasschaat|              131064| 2.779454845159585...|             1628|   80.50614250614251|\n",
      "|    Kapellen (Antw.)|              131058| 2.779288126785687...|             1624|   80.70073891625616|\n",
      "|Broechem/Emblem/O...|              125796| 2.779252118231294...|             1539|   81.73879142300196|\n",
      "| Berchem (Antwerpen)|              123401| 2.687942019916483...|             1539|   80.18258609486679|\n",
      "| Merksem (Antwerpen)|              122869| 2.776719432710886...|             1502|   81.80359520639148|\n",
      "|s Gravenwezel/Sch...|              122286| 2.772254179204631...|             1496|   81.74197860962566|\n",
      "| Hoboken (Antwerpen)|              112449| 3.409266864711506...|             1382|   81.36685962373372|\n",
      "|Borgerhout (Antwe...|              108289| 2.574942297144713...|             1307|    82.8530986993114|\n",
      "|    Kontich/Waarloos|              106076| 2.786056696255949...|             1321|    80.2997728993187|\n",
      "|              Edegem|              103631| 2.776838737567584...|             1221|   84.87387387387388|\n",
      "|Antwerpen/Berendr...|               90365| 2.788689675236866...|             1104|   81.85235507246377|\n",
      "| Reet/Rumst/Terhagen|               89730| 2.765892874974063...|             1099|   81.64695177434031|\n",
      "|Bazel/Kruibeke/Ru...|               86842| 2.784237000634105...|             1094|   79.38025594149909|\n",
      "|            Boechout|               86017| 2.782723414428274...|             1041|   82.62920268972142|\n",
      "|             Mortsel|               81239| 2.783992975490864...|             1025|   79.25756097560975|\n",
      "+--------------------+--------------------+---------------------+-----------------+--------------------+\n",
      "only showing top 20 rows\n",
      "\n"
     ]
    }
   ],
   "execution_count": 13
  },
  {
   "cell_type": "markdown",
   "source": [
    "## We willen voorspellen welke sloten preventief onderhoud nodig hebben. Bekijk hoe vaak slotnummers relatief gezien gebruikt worden.\n"
   ],
   "metadata": {
    "collapsed": false
   },
   "id": "37dfb15766e34a82"
  },
  {
   "metadata": {},
   "cell_type": "markdown",
   "source": "Om sloten te identificeren die mogelijk preventief onderhoud nodig hebben, kijken we naar hoe vaak elk slot wordt gebruikt, zowel als start- als eindslot.",
   "id": "4d77f2f0d4bc8a6c"
  },
  {
   "metadata": {
    "ExecuteTime": {
     "end_time": "2024-11-03T16:29:40.419499Z",
     "start_time": "2024-11-03T16:28:28.742955Z"
    }
   },
   "cell_type": "code",
   "source": [
    "locks_maintenance =  spark.sql(\"\"\" \n",
    "SELECT \n",
    "    dl.stationnr AS stationnummer,\n",
    "    dl.stationlocknr AS slotnummer,\n",
    "    COUNT(fr.rideId) AS gebruiksfrequentie,\n",
    "    RANK() OVER (ORDER BY COUNT(fr.rideId) DESC) AS gebruiks_ranking\n",
    "FROM \n",
    "    factRides AS fr\n",
    "JOIN \n",
    "    dimLocks AS dl ON fr.startLockSK = dl.lockSK OR fr.endLockSK = dl.lockSK\n",
    "GROUP BY \n",
    "    dl.stationnr, dl.stationlocknr\n",
    "ORDER BY \n",
    "    gebruiksfrequentie DESC;\n",
    "    \"\"\")\n",
    "locks_maintenance.show()\n"
   ],
   "id": "5a5e9b704d6c39a2",
   "outputs": [
    {
     "name": "stdout",
     "output_type": "stream",
     "text": [
      "+-------------+----------+------------------+----------------+\n",
      "|stationnummer|slotnummer|gebruiksfrequentie|gebruiks_ranking|\n",
      "+-------------+----------+------------------+----------------+\n",
      "|          103|        18|             22675|               1|\n",
      "|          145|        18|             22442|               2|\n",
      "|          155|        36|             22414|               3|\n",
      "|          062|        18|             22365|               4|\n",
      "|          115|        18|             22343|               5|\n",
      "|          102|        18|             22282|               6|\n",
      "|          052|        18|             22276|               7|\n",
      "|          053|        18|             22224|               8|\n",
      "|          228|        36|             22220|               9|\n",
      "|          124|        18|             22215|              10|\n",
      "|          076|        18|             22209|              11|\n",
      "|          064|        18|             22187|              12|\n",
      "|          033|        35|             22176|              13|\n",
      "|          001|        18|             22175|              14|\n",
      "|          305|        35|             22169|              15|\n",
      "|          080|        18|             22168|              16|\n",
      "|          227|        35|             22167|              17|\n",
      "|          049|        18|             22163|              18|\n",
      "|          121|        18|             22130|              19|\n",
      "|          133|        35|             22088|              20|\n",
      "+-------------+----------+------------------+----------------+\n",
      "only showing top 20 rows\n",
      "\n"
     ]
    }
   ],
   "execution_count": 14
  },
  {
   "cell_type": "markdown",
   "source": [
    "## Als een klant zijn abonnement stopzet, willen we kunnen voorspellen op welke stations dit het meeste effect zal hebben."
   ],
   "metadata": {
    "collapsed": false
   },
   "id": "746e42d2f64605fa"
  },
  {
   "metadata": {},
   "cell_type": "markdown",
   "source": "Hier analyseren we het gebruik van stations door klanten die hun abonnement hebben stopgezet, zodat we kunnen zien op welke stations het effect van opzeggingen het grootst is.",
   "id": "2578e7a2a2fa5da7"
  },
  {
   "cell_type": "code",
   "source": [
    "subscription_effect= spark.sql(\"\"\"\n",
    "SELECT \n",
    "    dl.stationnr AS stationnummer,\n",
    "    COUNT(fr.rideId) AS aantal_ritten_door_stopgezette_klanten\n",
    "FROM \n",
    "    factRides AS fr\n",
    "JOIN \n",
    "    dimLocks AS dl ON fr.startLockSK = dl.lockSK OR fr.endLockSK = dl.lockSK\n",
    "JOIN \n",
    "    dimCustomer AS dc ON fr.customerSK = dc.customer_SK\n",
    "WHERE \n",
    "    dc.scd_end IS NOT NULL -- Alleen klanten die hun abonnement hebben stopgezet\n",
    "GROUP BY \n",
    "    dl.stationnr\n",
    "ORDER BY \n",
    "    aantal_ritten_door_stopgezette_klanten DESC; \n",
    "    \"\"\")\n",
    "subscription_effect.show()"
   ],
   "metadata": {
    "collapsed": false,
    "ExecuteTime": {
     "end_time": "2024-11-03T16:30:45.737753Z",
     "start_time": "2024-11-03T16:29:40.451840Z"
    }
   },
   "id": "56fd9a543f2d1459",
   "outputs": [
    {
     "name": "stdout",
     "output_type": "stream",
     "text": [
      "+-------------+--------------------------------------+\n",
      "|stationnummer|aantal_ritten_door_stopgezette_klanten|\n",
      "+-------------+--------------------------------------+\n",
      "|          227|                                 78837|\n",
      "|          305|                                 78625|\n",
      "|          225|                                 78383|\n",
      "|          307|                                 76385|\n",
      "|          033|                                 75287|\n",
      "|          123|                                 73418|\n",
      "|          043|                                 73176|\n",
      "|          059|                                 73144|\n",
      "|          061|                                 72648|\n",
      "|          203|                                 72324|\n",
      "|          137|                                 72251|\n",
      "|          055|                                 72191|\n",
      "|          050|                                 71902|\n",
      "|          127|                                 71891|\n",
      "|          105|                                 71845|\n",
      "|          224|                                 71772|\n",
      "|          038|                                 71712|\n",
      "|          133|                                 71557|\n",
      "|          051|                                 71317|\n",
      "|          044|                                 71029|\n",
      "+-------------+--------------------------------------+\n",
      "only showing top 20 rows\n",
      "\n"
     ]
    }
   ],
   "execution_count": 15
  },
  {
   "metadata": {},
   "cell_type": "markdown",
   "source": "## Welke klanten maken de meeste en langste afstand?",
   "id": "3f072ff60fba35f"
  },
  {
   "metadata": {},
   "cell_type": "markdown",
   "source": [
    "We willen weten welke klanten het langst afstand maken.\n",
    "\n"
   ],
   "id": "ccb95cca0867ddae"
  },
  {
   "metadata": {
    "ExecuteTime": {
     "end_time": "2024-11-03T16:30:48.930351Z",
     "start_time": "2024-11-03T16:30:45.789254Z"
    }
   },
   "cell_type": "code",
   "source": [
    "langste_rides = spark.sql(\"\"\"\n",
    "SELECT \n",
    "    dc.customer_SK AS klant_id,\n",
    "    COUNT(fr.rideId) AS totaal_aantal_ritten,\n",
    "    SUM(fr.rideDistance) AS totale_afgelegde_afstand,\n",
    "    AVG(fr.rideDistance) AS gemiddelde_afstand_per_rit\n",
    "FROM \n",
    "    factRides AS fr\n",
    "JOIN \n",
    "    dimCustomer AS dc ON fr.customerSK = dc.customer_SK\n",
    "GROUP BY \n",
    "    dc.customer_SK\n",
    "ORDER BY \n",
    "    totaal_aantal_ritten DESC, gemiddelde_afstand_per_rit DESC\n",
    "LIMIT 10;\n",
    "\"\"\")\n",
    "langste_rides.show()"
   ],
   "id": "dab9a269e189f671",
   "outputs": [
    {
     "name": "stdout",
     "output_type": "stream",
     "text": [
      "+----------+--------------------+------------------------+--------------------------+\n",
      "|  klant_id|totaal_aantal_ritten|totale_afgelegde_afstand|gemiddelde_afstand_per_rit|\n",
      "+----------+--------------------+------------------------+--------------------------+\n",
      "|8589938715|                 339|    1004.698159272662...|      2.963711384285140...|\n",
      "|8589975817|                 334|    786.0842563966931...|      2.353545677834410...|\n",
      "|8589975818|                 334|    786.0842563966931...|      2.353545677834410...|\n",
      "|8589985963|                 332|    837.9135094882245...|      2.523835871952483...|\n",
      "|8589993524|                 330|    920.0489266057120...|      2.788027050320339...|\n",
      "|8589983559|                 324|    862.5686670843245...|      2.662248972482483...|\n",
      "|8589991978|                 322|    856.7873982340437...|      2.660830429298272...|\n",
      "|8589957643|                 321|    945.8726946462570...|      2.946643908555317...|\n",
      "|8589971261|                 321|    886.6543309809647...|      2.762163024862818...|\n",
      "|8589939349|                 319|    860.9604847565617...|      2.698935688892043...|\n",
      "+----------+--------------------+------------------------+--------------------------+\n",
      "\n"
     ]
    }
   ],
   "execution_count": 16
  },
  {
   "metadata": {},
   "cell_type": "markdown",
   "source": "### Welke abonnementsvormen leiden tot het hoogste aantal ritten en de langste ritafstanden per klant?\n",
   "id": "211ebe66b806e951"
  },
  {
   "metadata": {
    "ExecuteTime": {
     "end_time": "2024-11-03T16:30:51.530448Z",
     "start_time": "2024-11-03T16:30:48.984664Z"
    }
   },
   "cell_type": "code",
   "source": [
    "analyse_stations = spark.sql(\"\"\"\n",
    "SELECT \n",
    "    dc.subscription_type AS abonnementsvorm,\n",
    "    COUNT(fr.rideId) AS totaal_aantal_ritten,\n",
    "    AVG(fr.rideDistance) AS gemiddelde_ritafstand,\n",
    "    COUNT(DISTINCT fr.customerSK) AS unieke_gebruikers,\n",
    "    COUNT(fr.rideId) / COUNT(DISTINCT fr.customerSK) AS ritten_per_gebruiker\n",
    "FROM \n",
    "    factRides AS fr\n",
    "JOIN \n",
    "    dimCustomer AS dc ON fr.customerSK = dc.customer_SK\n",
    "GROUP BY \n",
    "    dc.subscription_type\n",
    "ORDER BY \n",
    "    totaal_aantal_ritten DESC;\n",
    "\n",
    "    \"\"\")\n",
    "analyse_stations.show()\n"
   ],
   "id": "ffd07031f52c6b0d",
   "outputs": [
    {
     "name": "stdout",
     "output_type": "stream",
     "text": [
      "+---------------+--------------------+---------------------+-----------------+--------------------+\n",
      "|abonnementsvorm|totaal_aantal_ritten|gemiddelde_ritafstand|unieke_gebruikers|ritten_per_gebruiker|\n",
      "+---------------+--------------------+---------------------+-----------------+--------------------+\n",
      "|           JAAR|             3365724| 2.779220263972375...|            36788|   91.48972491029683|\n",
      "|          MAAND|              142242| 2.792381524787680...|             5499|  25.866884888161483|\n",
      "|            DAG|              126902| 2.807425254426819...|             2505|   50.65948103792415|\n",
      "+---------------+--------------------+---------------------+-----------------+--------------------+\n",
      "\n"
     ]
    }
   ],
   "execution_count": 17
  },
  {
   "metadata": {
    "ExecuteTime": {
     "end_time": "2024-11-03T16:31:00.529678Z",
     "start_time": "2024-11-03T16:30:59.656086Z"
    }
   },
   "cell_type": "code",
   "source": "spark.stop()",
   "id": "59eabba29386188",
   "outputs": [],
   "execution_count": 18
  }
 ],
 "metadata": {
  "kernelspec": {
   "display_name": "Python 3",
   "language": "python",
   "name": "python3"
  },
  "language_info": {
   "codemirror_mode": {
    "name": "ipython",
    "version": 2
   },
   "file_extension": ".py",
   "mimetype": "text/x-python",
   "name": "python",
   "nbconvert_exporter": "python",
   "pygments_lexer": "ipython2",
   "version": "2.7.6"
  }
 },
 "nbformat": 4,
 "nbformat_minor": 5
}
