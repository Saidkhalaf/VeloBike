{
 "cells": [
  {
   "cell_type": "code",
   "id": "initial_id",
   "metadata": {
    "collapsed": true,
    "ExecuteTime": {
     "end_time": "2024-11-03T16:15:04.829491Z",
     "start_time": "2024-11-03T16:15:04.463922Z"
    }
   },
   "source": [
    "from pyspark.sql import SparkSession\n",
    "from delta import configure_spark_with_delta_pip\n",
    "import ConnectionConfig as cc\n",
    "cc.setupEnvironment()"
   ],
   "outputs": [],
   "execution_count": 1
  },
  {
   "metadata": {
    "ExecuteTime": {
     "end_time": "2024-11-03T16:15:22.980585Z",
     "start_time": "2024-11-03T16:15:04.841912Z"
    }
   },
   "cell_type": "code",
   "source": [
    "spark = cc.startLocalCluster(\"DIM_CUSTOMER\") # default 4\n",
    "spark.getActiveSession()"
   ],
   "id": "709f176cfc894355",
   "outputs": [
    {
     "data": {
      "text/plain": [
       "<pyspark.sql.session.SparkSession at 0x201ff67a510>"
      ],
      "text/html": [
       "\n",
       "            <div>\n",
       "                <p><b>SparkSession - in-memory</b></p>\n",
       "                \n",
       "        <div>\n",
       "            <p><b>SparkContext</b></p>\n",
       "\n",
       "            <p><a href=\"http://host.docker.internal:4042\">Spark UI</a></p>\n",
       "\n",
       "            <dl>\n",
       "              <dt>Version</dt>\n",
       "                <dd><code>v3.5.2</code></dd>\n",
       "              <dt>Master</dt>\n",
       "                <dd><code>local[*]</code></dd>\n",
       "              <dt>AppName</dt>\n",
       "                <dd><code>DIM_CUSTOMER</code></dd>\n",
       "            </dl>\n",
       "        </div>\n",
       "        \n",
       "            </div>\n",
       "        "
      ]
     },
     "execution_count": 2,
     "metadata": {},
     "output_type": "execute_result"
    }
   ],
   "execution_count": 2
  },
  {
   "metadata": {
    "ExecuteTime": {
     "end_time": "2024-11-03T16:15:28.612743Z",
     "start_time": "2024-11-03T16:15:25.983705Z"
    }
   },
   "cell_type": "code",
   "source": [
    "#EXTRACT \n",
    "#Extracting data van jdbc bron\n",
    "cc.set_connectionProfile(\"VeloDB\")\n",
    "\n",
    "df_operational_users = spark.read \\\n",
    "    .format(\"jdbc\") \\\n",
    "    .option(\"driver\" , cc.get_Property(\"driver\")) \\\n",
    "    .option(\"url\", cc.create_jdbc()) \\\n",
    "    .option(\"dbtable\", \"velo_users\") \\\n",
    "    .option(\"user\", cc.get_Property(\"username\")) \\\n",
    "    .option(\"password\", cc.get_Property(\"password\")) \\\n",
    "    .option(\"partitionColumn\", \"userid\") \\\n",
    "    .option(\"numPartitions\", 4) \\\n",
    "    .option(\"lowerBound\", 0) \\\n",
    "    .option(\"upperBound\", 20) \\\n",
    "    .load()\n",
    "\n",
    "\n",
    "df_operational_subscription_type = spark.read \\\n",
    "    .format(\"jdbc\") \\\n",
    "    .option(\"driver\" , cc.get_Property(\"driver\")) \\\n",
    "    .option(\"url\", cc.create_jdbc()) \\\n",
    "    .option(\"dbtable\", \"subscription_types\") \\\n",
    "    .option(\"user\", cc.get_Property(\"username\")) \\\n",
    "    .option(\"password\", cc.get_Property(\"password\")) \\\n",
    "    .option(\"partitionColumn\", \"subscriptiontypeid\") \\\n",
    "    .option(\"numPartitions\", 4) \\\n",
    "    .option(\"lowerBound\", 0) \\\n",
    "    .option(\"upperBound\", 20) \\\n",
    "    .load()\n",
    "\n",
    "df_operational_subscriptions = spark.read \\\n",
    "    .format(\"jdbc\") \\\n",
    "    .option(\"driver\" , cc.get_Property(\"driver\")) \\\n",
    "    .option(\"url\", cc.create_jdbc()) \\\n",
    "    .option(\"dbtable\", \"subscriptions\") \\\n",
    "    .option(\"user\", cc.get_Property(\"username\")) \\\n",
    "    .option(\"password\", cc.get_Property(\"password\")) \\\n",
    "    .option(\"partitionColumn\", \"subscriptionid\") \\\n",
    "    .option(\"numPartitions\", 4) \\\n",
    "    .option(\"lowerBound\", 0) \\\n",
    "    .option(\"upperBound\", 20) \\\n",
    "    .load()"
   ],
   "id": "fd5c9022c3d64bad",
   "outputs": [],
   "execution_count": 3
  },
  {
   "metadata": {
    "ExecuteTime": {
     "end_time": "2024-11-03T16:15:29.788514Z",
     "start_time": "2024-11-03T16:15:28.857461Z"
    }
   },
   "cell_type": "code",
   "source": [
    "#TRANSFORM\n",
    "#TEMP VIEW\n",
    "df_operational_users.createOrReplaceTempView(\"dimCustomer\")\n",
    "df_operational_subscription_type.createOrReplaceTempView(\"subscriptionTypes\")\n",
    "df_operational_subscriptions.createOrReplaceTempView(\"subscriptions\")"
   ],
   "id": "a2918e86b98f927f",
   "outputs": [],
   "execution_count": 4
  },
  {
   "metadata": {
    "ExecuteTime": {
     "end_time": "2024-11-03T16:15:38.567953Z",
     "start_time": "2024-11-03T16:15:29.811341Z"
    }
   },
   "cell_type": "code",
   "source": [
    "\n",
    "# TRANSFORM: First, create a temp view for the most recent subscription per user\n",
    "spark.sql(\"\"\"\n",
    "\n",
    "SELECT userId, validfrom, description\n",
    "FROM (\n",
    "SELECT \n",
    "        s.userId, \n",
    "        s.validfrom, \n",
    "        st.description,\n",
    "        ROW_NUMBER() OVER (PARTITION BY s.userId ORDER BY s.validfrom DESC) AS rank\n",
    "    FROM subscriptions AS s\n",
    "    LEFT JOIN subscriptionTypes AS st ON s.subscriptiontypeid = st.subscriptiontypeid\n",
    ")\n",
    "WHERE rank = 1\n",
    "\"\"\").createOrReplaceTempView(\"mostRecentSubscription\")\n",
    "\n",
    "df_dim_customer = spark.sql(\"\"\"\n",
    "    SELECT \n",
    "        monotonically_increasing_id() as customer_SK, \n",
    "        u.userid as customer_id,\n",
    "        u.name as name,\n",
    "        u.street,  \n",
    "        u.number,  \n",
    "        u.zipcode,\n",
    "        u.city, \n",
    "        u.country_code,\n",
    "        st.description as subscription_type,\n",
    "        to_timestamp('1999-01-01','yyyy-MM-dd') AS scd_start, \n",
    "        to_timestamp('2100-12-12','yyyy-MM-dd') AS scd_end,\n",
    "        s.validfrom as validform,\n",
    "        s.subscriptionid as subscription_id,\n",
    "        md5(concat(u.name, street,number , zipcode,city,country_code )) as md5,\n",
    "        True as current\n",
    "    FROM dimCustomer u\n",
    "        JOIN subscriptions s \n",
    "                ON u.userid = s.userid\n",
    "        JOIN subscriptionTypes st \n",
    "                ON s.subscriptiontypeid = st.subscriptiontypeid\n",
    "    WHERE s.validfrom = (\n",
    "        SELECT MAX(validfrom) \n",
    "        FROM subscriptions \n",
    "        WHERE userid = u.userid)\n",
    "\"\"\")\n",
    "\n",
    "# Create temp view for the final dimension\n",
    "df_dim_customer.createOrReplaceTempView(\"dimCustomer\")\n",
    "\n",
    "# Display the final dimension\n",
    "spark.sql(\"SELECT * FROM dimCustomer\").show()"
   ],
   "id": "23198915ccaf73ed",
   "outputs": [
    {
     "name": "stdout",
     "output_type": "stream",
     "text": [
      "+-----------+-----------+--------------------+--------------------+--------+-------+--------------------+------------+-----------------+-------------------+-------------------+----------+---------------+--------------------+-------+\n",
      "|customer_SK|customer_id|                name|              street|  number|zipcode|                city|country_code|subscription_type|          scd_start|            scd_end| validform|subscription_id|                 md5|current|\n",
      "+-----------+-----------+--------------------+--------------------+--------+-------+--------------------+------------+-----------------+-------------------+-------------------+----------+---------------+--------------------+-------+\n",
      "|          0|          2|   van der Zee Julia|          Europalaan|     43 |   2610| Wilrijk (Antwerpen)|          BE|            MAAND|1999-01-01 00:00:00|2100-12-12 00:00:00|2021-10-05|              4|9d3359c2cb9800783...|   true|\n",
      "|          1|          4|      Willems Angela|Graaf Joseph de P...|     15 |   2900|             Schoten|          BE|              DAG|1999-01-01 00:00:00|2100-12-12 00:00:00|2019-04-08|              6|70ba1eea58f357811...|   true|\n",
      "|          2|          3|     de Boer Ricardo|   Maria Clarastraat|     80 |   2160|           Wommelgem|          BE|             JAAR|1999-01-01 00:00:00|2100-12-12 00:00:00|2022-09-17|              5|430cf139585ed78b6...|   true|\n",
      "|          3|          1|         Bouman Lars|    Somméstraat Said|    156 |   2060|           Antwerpen|          BE|              DAG|1999-01-01 00:00:00|2100-12-12 00:00:00|2020-12-14|              3|06a6b6950726fcfb4...|   true|\n",
      "|          4|          6|      Driessen Anouk|   Jan Ockegemstraat|168 0107|   2650|              Edegem|          BE|             JAAR|1999-01-01 00:00:00|2100-12-12 00:00:00|2023-12-31|             10|20433518c2ec27a18...|   true|\n",
      "|          5|          9|            Smit Tim|       Bikschotelaan|     60 |   2600| Berchem (Antwerpen)|          BE|            MAAND|1999-01-01 00:00:00|2100-12-12 00:00:00|2023-11-29|             16|ebd2f063f8bb119e3...|   true|\n",
      "|          6|          5|    Heijnen Patricia|          Meylstraat|    111 |   2540|                Hove|          BE|             JAAR|1999-01-01 00:00:00|2100-12-12 00:00:00|2022-05-16|              7|203f98e289861df6a...|   true|\n",
      "|          7|          7|      Dijkstra Frank|        Klamperdreef|    154 |   2900|             Schoten|          BE|            MAAND|1999-01-01 00:00:00|2100-12-12 00:00:00|2021-12-01|             11|f39e3536e150374e5...|   true|\n",
      "|          8|          8|  den Hartog Suzanne|      Kolibriestraat|138 0608|   2170| Merksem (Antwerpen)|          BE|             JAAR|1999-01-01 00:00:00|2100-12-12 00:00:00|2023-11-26|             13|d0b5f333b41abc1c3...|   true|\n",
      "| 8589934592|         12|        Simons Thijs|         Bergenhoeve| 81 0302|   2040|Antwerpen/Berendr...|          BE|             JAAR|1999-01-01 00:00:00|2100-12-12 00:00:00|2023-10-20|             23|654d7701f61f97c80...|   true|\n",
      "| 8589934593|         13|          Groen Rens|  Trompetvogelstraat|      1 |   2170| Merksem (Antwerpen)|          BE|             JAAR|1999-01-01 00:00:00|2100-12-12 00:00:00|2020-02-28|             24|b21f2533db70b6731...|   true|\n",
      "| 8589934594|         14|   van der Veer Romy|Prosper De Vochtlaan|    177 |   2550|    Kontich/Waarloos|          BE|             JAAR|1999-01-01 00:00:00|2100-12-12 00:00:00|2023-09-19|             25|2eb3be45c77f12e13...|   true|\n",
      "| 8589934595|         10|van der Steen Carmen|          Benzineweg|    137 |   2020|           Antwerpen|          BE|             JAAR|1999-01-01 00:00:00|2100-12-12 00:00:00|2021-12-27|             19|9f1a20ed81607e694...|   true|\n",
      "| 8589934596|         11| de Ruijter Daniëlle|      Leo Metsstraat| 21 0905|   2070|  Burcht/Zwijndrecht|          BE|            MAAND|1999-01-01 00:00:00|2100-12-12 00:00:00|2023-02-02|             20|54f88c53d69780747...|   true|\n",
      "| 8589934597|         18|      Veldman Angela|Emiel Van Hemeldo...|     93 |   2540|                Hove|          BE|             JAAR|1999-01-01 00:00:00|2100-12-12 00:00:00|2023-08-04|             29|97d38ed6ace5f020f...|   true|\n",
      "| 8589934598|         25|        Blok Vincent|      Korenbloemlaan|    147 |   2900|             Schoten|          BE|              DAG|1999-01-01 00:00:00|2100-12-12 00:00:00|2019-01-13|             37|e0b27b393c438a909...|   true|\n",
      "| 8589934599|         37|        Postma Niels|        Visserstraat| 82 0602|   2070|  Burcht/Zwijndrecht|          BE|             JAAR|1999-01-01 00:00:00|2100-12-12 00:00:00|2022-08-02|             53|3f0e58f7ee5568bb8...|   true|\n",
      "| 8589934600|         38|       Peters Stefan|    Kleinebeerstraat|     60 |   2018|           Antwerpen|          BE|            MAAND|1999-01-01 00:00:00|2100-12-12 00:00:00|2022-11-17|             56|1a57e918b9d0f5c93...|   true|\n",
      "| 8589934601|         46|         Baars Kevin|            Keerbaan|    103 |   2520|Broechem/Emblem/O...|          BE|             JAAR|1999-01-01 00:00:00|2100-12-12 00:00:00|2023-12-30|             71|03124672e0b0b8de8...|   true|\n",
      "| 8589934602|         50|     Venema Matthijs|         Bollaakdijk|     31 |   2520|Broechem/Emblem/O...|          BE|             JAAR|1999-01-01 00:00:00|2100-12-12 00:00:00|2022-09-05|             76|cc2eb7ffee540f0b3...|   true|\n",
      "+-----------+-----------+--------------------+--------------------+--------+-------+--------------------+------------+-----------------+-------------------+-------------------+----------+---------------+--------------------+-------+\n",
      "only showing top 20 rows\n",
      "\n"
     ]
    }
   ],
   "execution_count": 5
  },
  {
   "metadata": {
    "ExecuteTime": {
     "end_time": "2024-11-03T16:15:50.303389Z",
     "start_time": "2024-11-03T16:15:38.596044Z"
    }
   },
   "cell_type": "code",
   "source": [
    "delta_table_path = \"spark-warehouse/dimCustomer\"\n",
    "df_dim_customer.write.format(\"delta\").mode(\"overwrite\").save(delta_table_path)"
   ],
   "id": "3037f40a3226d07e",
   "outputs": [],
   "execution_count": 6
  },
  {
   "metadata": {
    "ExecuteTime": {
     "end_time": "2024-11-03T16:15:51.912940Z",
     "start_time": "2024-11-03T16:15:50.328921Z"
    }
   },
   "cell_type": "code",
   "source": [
    "df_dim_customer.createOrReplaceTempView(\"dimCustomer\")\n",
    "spark.sql(\"select * from dimCustomer\").show()"
   ],
   "id": "5e705716161bb75c",
   "outputs": [
    {
     "name": "stdout",
     "output_type": "stream",
     "text": [
      "+-----------+-----------+--------------------+--------------------+--------+-------+--------------------+------------+-----------------+-------------------+-------------------+----------+---------------+--------------------+-------+\n",
      "|customer_SK|customer_id|                name|              street|  number|zipcode|                city|country_code|subscription_type|          scd_start|            scd_end| validform|subscription_id|                 md5|current|\n",
      "+-----------+-----------+--------------------+--------------------+--------+-------+--------------------+------------+-----------------+-------------------+-------------------+----------+---------------+--------------------+-------+\n",
      "|          0|          2|   van der Zee Julia|          Europalaan|     43 |   2610| Wilrijk (Antwerpen)|          BE|            MAAND|1999-01-01 00:00:00|2100-12-12 00:00:00|2021-10-05|              4|9d3359c2cb9800783...|   true|\n",
      "|          1|          4|      Willems Angela|Graaf Joseph de P...|     15 |   2900|             Schoten|          BE|              DAG|1999-01-01 00:00:00|2100-12-12 00:00:00|2019-04-08|              6|70ba1eea58f357811...|   true|\n",
      "|          2|          3|     de Boer Ricardo|   Maria Clarastraat|     80 |   2160|           Wommelgem|          BE|             JAAR|1999-01-01 00:00:00|2100-12-12 00:00:00|2022-09-17|              5|430cf139585ed78b6...|   true|\n",
      "|          3|          1|         Bouman Lars|    Somméstraat Said|    156 |   2060|           Antwerpen|          BE|              DAG|1999-01-01 00:00:00|2100-12-12 00:00:00|2020-12-14|              3|06a6b6950726fcfb4...|   true|\n",
      "|          4|          6|      Driessen Anouk|   Jan Ockegemstraat|168 0107|   2650|              Edegem|          BE|             JAAR|1999-01-01 00:00:00|2100-12-12 00:00:00|2023-12-31|             10|20433518c2ec27a18...|   true|\n",
      "|          5|          9|            Smit Tim|       Bikschotelaan|     60 |   2600| Berchem (Antwerpen)|          BE|            MAAND|1999-01-01 00:00:00|2100-12-12 00:00:00|2023-11-29|             16|ebd2f063f8bb119e3...|   true|\n",
      "|          6|          5|    Heijnen Patricia|          Meylstraat|    111 |   2540|                Hove|          BE|             JAAR|1999-01-01 00:00:00|2100-12-12 00:00:00|2022-05-16|              7|203f98e289861df6a...|   true|\n",
      "|          7|          7|      Dijkstra Frank|        Klamperdreef|    154 |   2900|             Schoten|          BE|            MAAND|1999-01-01 00:00:00|2100-12-12 00:00:00|2021-12-01|             11|f39e3536e150374e5...|   true|\n",
      "|          8|          8|  den Hartog Suzanne|      Kolibriestraat|138 0608|   2170| Merksem (Antwerpen)|          BE|             JAAR|1999-01-01 00:00:00|2100-12-12 00:00:00|2023-11-26|             13|d0b5f333b41abc1c3...|   true|\n",
      "| 8589934592|         12|        Simons Thijs|         Bergenhoeve| 81 0302|   2040|Antwerpen/Berendr...|          BE|             JAAR|1999-01-01 00:00:00|2100-12-12 00:00:00|2023-10-20|             23|654d7701f61f97c80...|   true|\n",
      "| 8589934593|         13|          Groen Rens|  Trompetvogelstraat|      1 |   2170| Merksem (Antwerpen)|          BE|             JAAR|1999-01-01 00:00:00|2100-12-12 00:00:00|2020-02-28|             24|b21f2533db70b6731...|   true|\n",
      "| 8589934594|         14|   van der Veer Romy|Prosper De Vochtlaan|    177 |   2550|    Kontich/Waarloos|          BE|             JAAR|1999-01-01 00:00:00|2100-12-12 00:00:00|2023-09-19|             25|2eb3be45c77f12e13...|   true|\n",
      "| 8589934595|         10|van der Steen Carmen|          Benzineweg|    137 |   2020|           Antwerpen|          BE|             JAAR|1999-01-01 00:00:00|2100-12-12 00:00:00|2021-12-27|             19|9f1a20ed81607e694...|   true|\n",
      "| 8589934596|         11| de Ruijter Daniëlle|      Leo Metsstraat| 21 0905|   2070|  Burcht/Zwijndrecht|          BE|            MAAND|1999-01-01 00:00:00|2100-12-12 00:00:00|2023-02-02|             20|54f88c53d69780747...|   true|\n",
      "| 8589934597|         18|      Veldman Angela|Emiel Van Hemeldo...|     93 |   2540|                Hove|          BE|             JAAR|1999-01-01 00:00:00|2100-12-12 00:00:00|2023-08-04|             29|97d38ed6ace5f020f...|   true|\n",
      "| 8589934598|         25|        Blok Vincent|      Korenbloemlaan|    147 |   2900|             Schoten|          BE|              DAG|1999-01-01 00:00:00|2100-12-12 00:00:00|2019-01-13|             37|e0b27b393c438a909...|   true|\n",
      "| 8589934599|         37|        Postma Niels|        Visserstraat| 82 0602|   2070|  Burcht/Zwijndrecht|          BE|             JAAR|1999-01-01 00:00:00|2100-12-12 00:00:00|2022-08-02|             53|3f0e58f7ee5568bb8...|   true|\n",
      "| 8589934600|         38|       Peters Stefan|    Kleinebeerstraat|     60 |   2018|           Antwerpen|          BE|            MAAND|1999-01-01 00:00:00|2100-12-12 00:00:00|2022-11-17|             56|1a57e918b9d0f5c93...|   true|\n",
      "| 8589934601|         46|         Baars Kevin|            Keerbaan|    103 |   2520|Broechem/Emblem/O...|          BE|             JAAR|1999-01-01 00:00:00|2100-12-12 00:00:00|2023-12-30|             71|03124672e0b0b8de8...|   true|\n",
      "| 8589934602|         50|     Venema Matthijs|         Bollaakdijk|     31 |   2520|Broechem/Emblem/O...|          BE|             JAAR|1999-01-01 00:00:00|2100-12-12 00:00:00|2022-09-05|             76|cc2eb7ffee540f0b3...|   true|\n",
      "+-----------+-----------+--------------------+--------------------+--------+-------+--------------------+------------+-----------------+-------------------+-------------------+----------+---------------+--------------------+-------+\n",
      "only showing top 20 rows\n",
      "\n"
     ]
    }
   ],
   "execution_count": 7
  },
  {
   "metadata": {
    "ExecuteTime": {
     "end_time": "2024-11-03T16:15:52.657050Z",
     "start_time": "2024-11-03T16:15:51.956668Z"
    }
   },
   "cell_type": "code",
   "source": "spark.stop()",
   "id": "a13e5180d01fd71d",
   "outputs": [],
   "execution_count": 8
  }
 ],
 "metadata": {
  "kernelspec": {
   "display_name": "Python 3",
   "language": "python",
   "name": "python3"
  },
  "language_info": {
   "codemirror_mode": {
    "name": "ipython",
    "version": 2
   },
   "file_extension": ".py",
   "mimetype": "text/x-python",
   "name": "python",
   "nbconvert_exporter": "python",
   "pygments_lexer": "ipython2",
   "version": "2.7.6"
  }
 },
 "nbformat": 4,
 "nbformat_minor": 5
}
