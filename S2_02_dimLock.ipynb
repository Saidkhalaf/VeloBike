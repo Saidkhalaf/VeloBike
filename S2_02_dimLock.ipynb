{
 "cells": [
  {
   "cell_type": "code",
   "id": "initial_id",
   "metadata": {
    "collapsed": true,
    "ExecuteTime": {
     "end_time": "2024-11-03T16:13:00.687619Z",
     "start_time": "2024-11-03T16:13:00.672073Z"
    }
   },
   "source": [
    "from pyspark.sql import SparkSession\n",
    "from delta import configure_spark_with_delta_pip\n",
    "from pyspark.sql import Row\n",
    "import ConnectionConfig as cc\n",
    "cc.setupEnvironment()\n"
   ],
   "outputs": [],
   "execution_count": 8
  },
  {
   "metadata": {
    "ExecuteTime": {
     "end_time": "2024-11-03T16:13:01.696099Z",
     "start_time": "2024-11-03T16:13:00.704198Z"
    }
   },
   "cell_type": "code",
   "source": [
    "spark = cc.startLocalCluster(\"DIM_SLOT\") # default 4\n",
    "spark.getActiveSession()"
   ],
   "id": "25927164f6236b9b",
   "outputs": [
    {
     "data": {
      "text/plain": [
       "<pyspark.sql.session.SparkSession at 0x1d3bee4da50>"
      ],
      "text/html": [
       "\n",
       "            <div>\n",
       "                <p><b>SparkSession - in-memory</b></p>\n",
       "                \n",
       "        <div>\n",
       "            <p><b>SparkContext</b></p>\n",
       "\n",
       "            <p><a href=\"http://host.docker.internal:4040\">Spark UI</a></p>\n",
       "\n",
       "            <dl>\n",
       "              <dt>Version</dt>\n",
       "                <dd><code>v3.5.2</code></dd>\n",
       "              <dt>Master</dt>\n",
       "                <dd><code>local[*]</code></dd>\n",
       "              <dt>AppName</dt>\n",
       "                <dd><code>DIM_SLOT</code></dd>\n",
       "            </dl>\n",
       "        </div>\n",
       "        \n",
       "            </div>\n",
       "        "
      ]
     },
     "execution_count": 9,
     "metadata": {},
     "output_type": "execute_result"
    }
   ],
   "execution_count": 9
  },
  {
   "metadata": {
    "ExecuteTime": {
     "end_time": "2024-11-03T16:13:02.095078Z",
     "start_time": "2024-11-03T16:13:01.724250Z"
    }
   },
   "cell_type": "code",
   "source": [
    "cc.set_connectionProfile(\"VeloDB\")\n",
    "\n",
    "df_operational_slots = spark.read \\\n",
    "    .format(\"jdbc\") \\\n",
    "    .option(\"driver\" , cc.get_Property(\"driver\")) \\\n",
    "    .option(\"url\", cc.create_jdbc()) \\\n",
    "    .option(\"dbtable\", \"locks\") \\\n",
    "    .option(\"user\", cc.get_Property(\"username\")) \\\n",
    "    .option(\"password\", cc.get_Property(\"password\")) \\\n",
    "    .option(\"partitionColumn\", \"lockid\") \\\n",
    "    .option(\"numPartitions\", 4) \\\n",
    "    .option(\"lowerBound\", 0) \\\n",
    "    .option(\"upperBound\", 20) \\\n",
    "    .load()\n",
    "\n",
    "df_operational_stations = spark.read \\\n",
    "    .format(\"jdbc\") \\\n",
    "    .option(\"driver\" , cc.get_Property(\"driver\")) \\\n",
    "    .option(\"url\", cc.create_jdbc()) \\\n",
    "    .option(\"dbtable\", \"stations\") \\\n",
    "    .option(\"user\", cc.get_Property(\"username\")) \\\n",
    "    .option(\"password\", cc.get_Property(\"password\")) \\\n",
    "    .option(\"partitionColumn\", \"stationid\") \\\n",
    "    .option(\"numPartitions\", 4) \\\n",
    "    .option(\"lowerBound\", 0) \\\n",
    "    .option(\"upperBound\", 20) \\\n",
    "    .load()\n"
   ],
   "id": "e0a0b9c34c98ba65",
   "outputs": [],
   "execution_count": 10
  },
  {
   "metadata": {
    "ExecuteTime": {
     "end_time": "2024-11-03T16:13:02.254556Z",
     "start_time": "2024-11-03T16:13:02.158181Z"
    }
   },
   "cell_type": "code",
   "source": [
    "df_operational_slots.createOrReplaceTempView(\"dimLocks\")\n",
    "df_operational_stations.createOrReplaceTempView(\"dimStations\")"
   ],
   "id": "108130702a57ed6a",
   "outputs": [],
   "execution_count": 11
  },
  {
   "metadata": {
    "ExecuteTime": {
     "end_time": "2024-11-03T16:13:36.306866Z",
     "start_time": "2024-11-03T16:13:02.269516Z"
    }
   },
   "cell_type": "code",
   "source": [
    "# TRANSFORM\n",
    "df_dim_locks = spark.sql(\"select monotonically_increasing_id() as lockSK, l.lockId, l.stationlocknr, s.stationnr, s.type, s.street, s.number, s.zipcode, s.district, s.labelid FROM dimLocks as l LEFT JOIN dimStations s on l.stationId = s.stationId\")\n",
    "\n",
    "# TRANSFORM\n",
    "max_lock_SK = df_dim_locks.agg({\"lockSK\": \"max\"}).collect()[0][0]\n",
    "\n",
    "row = Row(\"lockSK\",\"lockId\", \"stationlocknr\", \"stationnr\", \"type\", \"street\", \"number\", \"zipcode\", \"district\", \"labelid\")(max_lock_SK+1, \"geen lockId\", \"geen stationlocknr\", \"geen station\", \"geen type\", \"geen straat\", \"geen nr\", \"geen zipcd\", \"geen district\", \"geen labelid\")\n",
    "\n",
    "df_geen_slot = spark.createDataFrame([row])\n",
    "\n",
    "df_dim_locks = df_dim_locks.union(df_geen_slot)\n",
    "df_dim_locks.createOrReplaceTempView(\"dimLocks\")\n",
    "\n",
    "spark.sql(\"select * from dimLocks where stationnr=='geen station'\").show()\n",
    "df_dim_locks = df_dim_locks.union(df_geen_slot)"
   ],
   "id": "3dedb648c2037b42",
   "outputs": [
    {
     "name": "stdout",
     "output_type": "stream",
     "text": [
      "+------+-----------+------------------+------------+---------+-----------+-------+----------+-------------+------------+\n",
      "|lockSK|     lockId|     stationlocknr|   stationnr|     type|     street| number|   zipcode|     district|     labelid|\n",
      "+------+-----------+------------------+------------+---------+-----------+-------+----------+-------------+------------+\n",
      "|  7542|geen lockId|geen stationlocknr|geen station|geen type|geen straat|geen nr|geen zipcd|geen district|geen labelid|\n",
      "+------+-----------+------------------+------------+---------+-----------+-------+----------+-------------+------------+\n",
      "\n"
     ]
    }
   ],
   "execution_count": 12
  },
  {
   "metadata": {
    "ExecuteTime": {
     "end_time": "2024-11-03T16:14:40.372870Z",
     "start_time": "2024-11-03T16:13:36.326219Z"
    }
   },
   "cell_type": "code",
   "source": [
    "delta_table_path = \"spark-warehouse/dimLocks\"\n",
    "df_dim_locks.write.format(\"delta\").mode(\"overwrite\").save(delta_table_path)"
   ],
   "id": "f4e656bd73647ea1",
   "outputs": [],
   "execution_count": 13
  },
  {
   "metadata": {
    "ExecuteTime": {
     "end_time": "2024-11-03T16:14:41.139951Z",
     "start_time": "2024-11-03T16:14:40.396110Z"
    }
   },
   "cell_type": "code",
   "source": "df_dim_locks.show()",
   "id": "f4dbd5306bf3d2f9",
   "outputs": [
    {
     "name": "stdout",
     "output_type": "stream",
     "text": [
      "+------+------+-------------+---------+------------+--------------------+------+-------+---------+-------+\n",
      "|lockSK|lockId|stationlocknr|stationnr|        type|              street|number|zipcode| district|labelid|\n",
      "+------+------+-------------+---------+------------+--------------------+------+-------+---------+-------+\n",
      "|     0|     1|            1|      026|DUBBELZIJDIG|         Meir (2000)|    84|   2000|ANTWERPEN|   NULL|\n",
      "|     1|     2|            2|      026|DUBBELZIJDIG|         Meir (2000)|    84|   2000|ANTWERPEN|   NULL|\n",
      "|     2|     3|            3|      026|DUBBELZIJDIG|         Meir (2000)|    84|   2000|ANTWERPEN|   NULL|\n",
      "|     3|     4|            4|      026|DUBBELZIJDIG|         Meir (2000)|    84|   2000|ANTWERPEN|   NULL|\n",
      "|     4|     5|            5|      026|DUBBELZIJDIG|         Meir (2000)|    84|   2000|ANTWERPEN|   NULL|\n",
      "|     5|     6|            6|      026|DUBBELZIJDIG|         Meir (2000)|    84|   2000|ANTWERPEN|   NULL|\n",
      "|     6|     7|            7|      026|DUBBELZIJDIG|         Meir (2000)|    84|   2000|ANTWERPEN|   NULL|\n",
      "|     7|     8|            8|      026|DUBBELZIJDIG|         Meir (2000)|    84|   2000|ANTWERPEN|   NULL|\n",
      "|     8|     9|            9|      026|DUBBELZIJDIG|         Meir (2000)|    84|   2000|ANTWERPEN|   NULL|\n",
      "|     9|    10|           10|      026|DUBBELZIJDIG|         Meir (2000)|    84|   2000|ANTWERPEN|   NULL|\n",
      "|    10|    11|           11|      026|DUBBELZIJDIG|         Meir (2000)|    84|   2000|ANTWERPEN|   NULL|\n",
      "|    11|    12|           12|      026|DUBBELZIJDIG|         Meir (2000)|    84|   2000|ANTWERPEN|   NULL|\n",
      "|    12|    13|           13|      026|DUBBELZIJDIG|         Meir (2000)|    84|   2000|ANTWERPEN|   NULL|\n",
      "|    13|    14|           14|      026|DUBBELZIJDIG|         Meir (2000)|    84|   2000|ANTWERPEN|   NULL|\n",
      "|    14|   217|            1|      120| ENKELZIJDIG|Schijnpoortweg (2...| 27-29|   2060|ANTWERPEN|   NULL|\n",
      "|    15|   218|            2|      120| ENKELZIJDIG|Schijnpoortweg (2...| 27-29|   2060|ANTWERPEN|   NULL|\n",
      "|    16|   219|            3|      120| ENKELZIJDIG|Schijnpoortweg (2...| 27-29|   2060|ANTWERPEN|   NULL|\n",
      "|    17|   220|            4|      120| ENKELZIJDIG|Schijnpoortweg (2...| 27-29|   2060|ANTWERPEN|   NULL|\n",
      "|    18|   221|            5|      120| ENKELZIJDIG|Schijnpoortweg (2...| 27-29|   2060|ANTWERPEN|   NULL|\n",
      "|    19|   222|            6|      120| ENKELZIJDIG|Schijnpoortweg (2...| 27-29|   2060|ANTWERPEN|   NULL|\n",
      "+------+------+-------------+---------+------------+--------------------+------+-------+---------+-------+\n",
      "only showing top 20 rows\n",
      "\n"
     ]
    }
   ],
   "execution_count": 14
  },
  {
   "metadata": {
    "ExecuteTime": {
     "end_time": "2024-11-03T16:27:42.032461Z",
     "start_time": "2024-11-03T16:27:37.681761Z"
    }
   },
   "cell_type": "code",
   "source": "spark.stop()",
   "id": "ce06d042b366671e",
   "outputs": [],
   "execution_count": 15
  }
 ],
 "metadata": {
  "kernelspec": {
   "display_name": "Python 3",
   "language": "python",
   "name": "python3"
  },
  "language_info": {
   "codemirror_mode": {
    "name": "ipython",
    "version": 2
   },
   "file_extension": ".py",
   "mimetype": "text/x-python",
   "name": "python",
   "nbconvert_exporter": "python",
   "pygments_lexer": "ipython2",
   "version": "2.7.6"
  }
 },
 "nbformat": 4,
 "nbformat_minor": 5
}
