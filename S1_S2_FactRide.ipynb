{
 "cells": [
  {
   "cell_type": "code",
   "id": "initial_id",
   "metadata": {
    "collapsed": true,
    "ExecuteTime": {
     "end_time": "2024-11-03T16:37:15.790962Z",
     "start_time": "2024-11-03T16:37:15.311031Z"
    }
   },
   "source": [
    "import ConnectionConfig as cc\n",
    "from delta import DeltaTable\n",
    "from pyspark.sql.functions import col, hour, explode, from_unixtime, unix_timestamp\n",
    "cc.setupEnvironment()"
   ],
   "outputs": [],
   "execution_count": 1
  },
  {
   "metadata": {
    "ExecuteTime": {
     "end_time": "2024-11-03T16:37:34.371370Z",
     "start_time": "2024-11-03T16:37:15.800361Z"
    }
   },
   "cell_type": "code",
   "source": [
    "spark = cc.startLocalCluster(\"S1S2FactRide\")\n",
    "spark.getActiveSession()"
   ],
   "id": "2a9ed72caa26dde5",
   "outputs": [
    {
     "data": {
      "text/plain": [
       "<pyspark.sql.session.SparkSession at 0x2472891d710>"
      ],
      "text/html": [
       "\n",
       "            <div>\n",
       "                <p><b>SparkSession - in-memory</b></p>\n",
       "                \n",
       "        <div>\n",
       "            <p><b>SparkContext</b></p>\n",
       "\n",
       "            <p><a href=\"http://host.docker.internal:4040\">Spark UI</a></p>\n",
       "\n",
       "            <dl>\n",
       "              <dt>Version</dt>\n",
       "                <dd><code>v3.5.2</code></dd>\n",
       "              <dt>Master</dt>\n",
       "                <dd><code>local[*]</code></dd>\n",
       "              <dt>AppName</dt>\n",
       "                <dd><code>S1S2FactRide</code></dd>\n",
       "            </dl>\n",
       "        </div>\n",
       "        \n",
       "            </div>\n",
       "        "
      ]
     },
     "execution_count": 2,
     "metadata": {},
     "output_type": "execute_result"
    }
   ],
   "execution_count": 2
  },
  {
   "metadata": {
    "ExecuteTime": {
     "end_time": "2024-11-03T16:37:48.378879Z",
     "start_time": "2024-11-03T16:37:37.308513Z"
    }
   },
   "cell_type": "code",
   "source": [
    "#Extract factRide1 factRide2\n",
    "fact_ride_s2 = spark.read.format(\"delta\").load(\"spark-warehouse/factRidesS2\")\n",
    "fact_ride_s1 = spark.read.format(\"delta\").load(\"spark-warehouse/factRideS1\")"
   ],
   "id": "9fba21ea34438adf",
   "outputs": [],
   "execution_count": 3
  },
  {
   "metadata": {
    "ExecuteTime": {
     "end_time": "2024-11-03T16:37:48.542726Z",
     "start_time": "2024-11-03T16:37:48.452576Z"
    }
   },
   "cell_type": "code",
   "source": [
    "#Transform dimWeather and dimDate\n",
    "fact_ride_s1.createOrReplaceTempView(\"factRideS1\")\n",
    "fact_ride_s2.createOrReplaceTempView(\"factRideS2\")"
   ],
   "id": "1926e9222133a655",
   "outputs": [],
   "execution_count": 4
  },
  {
   "metadata": {
    "ExecuteTime": {
     "end_time": "2024-11-03T16:38:05.566715Z",
     "start_time": "2024-11-03T16:37:48.563813Z"
    }
   },
   "cell_type": "code",
   "source": [
    "fact_rides_S1_S2 = spark.sql(\"\"\"\n",
    "SELECT\n",
    "        frs1.rideSk, frs1.dateSK, frs2.startLockSK, frs2.endLockSK, frs2.customerSK, frs1.weatherSK, \n",
    "        frs1.ride_duration, frs2.rideDistance\n",
    "        FROM factRideS1 frs1\n",
    "        JOIN factRideS2 frs2 ON frs1.rideSK = frs2.rideSK\n",
    "\"\"\")\n",
    "\n",
    "fact_rides_S1_S2.show(20)"
   ],
   "id": "18627af9c67a8807",
   "outputs": [
    {
     "name": "stdout",
     "output_type": "stream",
     "text": [
      "+------+------+-----------+---------+----------+---------+-------------+--------------------+\n",
      "|rideSk|dateSK|startLockSK|endLockSK|customerSK|weatherSK|ride_duration|        rideDistance|\n",
      "+------+------+-----------+---------+----------+---------+-------------+--------------------+\n",
      "|     2|  2455|       3166|     6046|8589935603|        3|    -94608000|5.575740415708010000|\n",
      "|     4|  3916|       5628|     4177|8589949890|        4|          304|1.061420171911090000|\n",
      "|     5|  3916|       3166|     6046|8589935603|        4|          395|5.575740415708010000|\n",
      "|     8|  3916|       2571|     1862|8589955202|        4|          677|0.177913231674759000|\n",
      "|    12|  3916|       7055|     4043|8589969414|        4|          269|2.550810388430940000|\n",
      "|    15|  3916|       5647|     4309|8589942783|        4|         1143|1.019996722533340000|\n",
      "|    19|  3916|        522|      989|8589970130|        4|          647|1.011845356165030000|\n",
      "|    23|  3916|       6496|     2191|8589978169|        4|          513|1.346051576861770000|\n",
      "|    25|  3916|       4388|     5463|8589969414|        4|         1119|1.901902433910470000|\n",
      "|    26|  3916|        908|     2214|8589967028|        4|         1152|5.236831450542970000|\n",
      "|    28|  3916|       1669|     3771|8589973849|        4|          491|3.135770789491840000|\n",
      "|    29|  3916|       6212|     4375|8589958259|        4|          709|2.531713453905330000|\n",
      "|    30|  3916|       6545|     5992|8589957135|        4|          419|2.883156696273290000|\n",
      "|    31|  3916|       6522|     2424|8589960017|        4|          864|1.692510767813410000|\n",
      "|    33|  3916|       5981|      394|8589993677|        4|         1270|1.257004738058250000|\n",
      "|    34|  3916|       4177|     3679|8589980893|        4|          642|1.200228824275700000|\n",
      "|    42|  3916|       2517|     3318|8589971692|        4|         1110|4.392600859126580000|\n",
      "|    48|  3916|        410|      746|8589971759|        4|         1062|5.142794741289780000|\n",
      "|    54|  2455|       5616|      621|8589951653|        4|    -94608000|1.319102679373620000|\n",
      "|    61|  3916|       6401|      344|8589985955|        4|          695|3.679609755569430000|\n",
      "+------+------+-----------+---------+----------+---------+-------------+--------------------+\n",
      "only showing top 20 rows\n",
      "\n"
     ]
    }
   ],
   "execution_count": 5
  },
  {
   "metadata": {
    "ExecuteTime": {
     "end_time": "2024-11-03T16:38:21.230937Z",
     "start_time": "2024-11-03T16:38:05.673988Z"
    }
   },
   "cell_type": "code",
   "source": [
    "# Define path for the Delta table\n",
    "fact_ride_path = \"spark-warehouse/fact_ride_s1_s2\"\n",
    "\n",
    "fact_rides_S1_S2.write.format(\"delta\").mode(\"overwrite\").save(fact_ride_path)"
   ],
   "id": "b27274135b477465",
   "outputs": [],
   "execution_count": 6
  }
 ],
 "metadata": {
  "kernelspec": {
   "display_name": "Python 3",
   "language": "python",
   "name": "python3"
  },
  "language_info": {
   "codemirror_mode": {
    "name": "ipython",
    "version": 2
   },
   "file_extension": ".py",
   "mimetype": "text/x-python",
   "name": "python",
   "nbconvert_exporter": "python",
   "pygments_lexer": "ipython2",
   "version": "2.7.6"
  }
 },
 "nbformat": 4,
 "nbformat_minor": 5
}
